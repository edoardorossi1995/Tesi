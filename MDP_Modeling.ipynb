{
 "cells": [
  {
   "attachments": {},
   "cell_type": "markdown",
   "metadata": {},
   "source": [
    "# Simulazione Real Environment MDP"
   ]
  },
  {
   "attachments": {},
   "cell_type": "markdown",
   "metadata": {},
   "source": [
    "## Drive & Environment Setting"
   ]
  },
  {
   "cell_type": "code",
   "execution_count": 3,
   "metadata": {},
   "outputs": [
    {
     "name": "stdout",
     "output_type": "stream",
     "text": [
      "/Users/edoardorossi/Documents/Universita/Tesi/Tesi_GDrive\n",
      "Libraries imported\n"
     ]
    }
   ],
   "source": [
    "IN_COLAB = False\n",
    "\n",
    "try:\n",
    "  import google.colab\n",
    "  IN_COLAB = True\n",
    "except:\n",
    "  pass\n",
    "\n",
    "if IN_COLAB == True:\n",
    "  from google.colab import drive\n",
    "  drive.mount('/content/gdrive')\n",
    "  %cd /content/gdrive/MyDrive/Tesi_GDrive\n",
    "  PROJECT_PATH = '/content/gdrive/MyDrive/Tesi_GDrive'\n",
    "  #!ls\n",
    "else:\n",
    "  %cd /Users/edoardorossi/Documents/Universita/Tesi/Tesi_GDrive\n",
    "  PROJECT_PATH = '/Users/edoardorossi/Documents/Universita/Tesi/Tesi_GDrive'\n",
    "\n",
    "import warnings\n",
    "import pickle\n",
    "import sys\n",
    "import os\n",
    "\n",
    "if IN_COLAB == True:\n",
    "  sys.path.insert(0, os.path.abspath('functions'))\n",
    "  sys.path.insert(0, os.path.abspath(''))\n",
    "else:\n",
    "  sys.path.insert(0, os.path.abspath('functions'))\n",
    "  sys.path.insert(0, os.path.abspath(''))\n",
    "\n",
    "warnings.filterwarnings('ignore')\n",
    "\n",
    "import pandas as pd\n",
    "import numpy as np\n",
    "import matplotlib.pyplot as plt\n",
    "from sklearn.preprocessing import MinMaxScaler\n",
    "from sklearn.decomposition import PCA\n",
    "from sklearn.cluster import KMeans\n",
    "from sklearn.metrics import silhouette_score\n",
    "from keras.models import Sequential, Model\n",
    "from keras.layers import Dense, Lambda\n",
    "from keras.layers import Activation\n",
    "from keras.activations import exponential, relu\n",
    "from keras import backend as K\n",
    "import tensorflow as tf\n",
    "#from tensorflow.keras.layers import Input, Layer, InputSpec, Reshape\n",
    "#from tensorflow.keras import initializers\n",
    "#from tensorflow.keras.optimizers import Adam\n",
    "tf.config.run_functions_eagerly(True)\n",
    "from scipy.optimize import minimize, differential_evolution\n",
    "\n",
    "#from pkl import store_data, load_data\n",
    "#from functions.compressor import compress\n",
    "from functions.compressor_param import compress_2\n",
    "from functions.mapping import sub2ind, ind2sub\n",
    "\n",
    "\n",
    "import random\n",
    "from collections import defaultdict\n",
    "\n",
    "import time\n",
    "\n",
    "\n",
    "\n",
    "print(\"Libraries imported\")"
   ]
  },
  {
   "attachments": {},
   "cell_type": "markdown",
   "metadata": {},
   "source": [
    "## Import Anagrafica & CTA"
   ]
  },
  {
   "cell_type": "code",
   "execution_count": 4,
   "metadata": {},
   "outputs": [
    {
     "name": "stdout",
     "output_type": "stream",
     "text": [
      "df shape:  (2176378, 80)\n",
      "pca_df shape:  (2176378, 9)\n"
     ]
    }
   ],
   "source": [
    "cta30_def_path = os.path.join(PROJECT_PATH, 'CTA30/DF_clean/clean_CTA_30_def.csv')\n",
    "CTA30_def = [cta30_def_path]\n",
    "  \n",
    "df_def = pd.read_csv(CTA30_def[0])\n",
    "\n",
    "#cta30_18_path = os.path.join(PROJECT_PATH, 'CTA30/DF_clean/clean_CTA_30_2018.csv')\n",
    "#cta30_19_path = os.path.join(PROJECT_PATH, 'CTA30/DF_clean/clean_CTA_30_2019.csv')\n",
    "#cta30_20_path = os.path.join(PROJECT_PATH, 'CTA30/DF_clean/clean_CTA_30_2020.csv')\n",
    "#cta30_21_path = os.path.join(PROJECT_PATH, 'CTA30/DF_clean/clean_CTA_30_2021.csv')\n",
    "#cta30_22_path = os.path.join(PROJECT_PATH, 'CTA30/DF_clean/clean_CTA_30_2022.csv')\n",
    "#CTA30_18 = [cta30_18_path]\n",
    "#CTA30_19 = [cta30_19_path]\n",
    "#CTA30_20 = [cta30_20_path]\n",
    "#CTA30_21 = [cta30_21_path]\n",
    "#CTA30_22 = [cta30_22_path]\n",
    "\n",
    "#df18= pd.read_csv(CTA30_18[0])\n",
    "#df19= pd.read_csv(CTA30_19[0])\n",
    "#df20= pd.read_csv(CTA30_20[0])\n",
    "#df21= pd.read_csv(CTA30_21[0])\n",
    "#df22= pd.read_csv(CTA30_22[0])\n",
    "#df = pd.concat([df18, df19, df20, df21, df22], ignore_index=True)\n",
    "\n",
    "cta30_partitioned = os.path.join(PROJECT_PATH, 'CTA30/DF_clean/df_partitioned.csv')\n",
    "CTA30_partitioned = [cta30_partitioned]\n",
    "df = pd.read_csv(CTA30_partitioned[0])\n",
    "df_standard = df.drop(['Cluster','a1_discrete','a2_discrete','a3_discrete'], axis=1)\n",
    "\n",
    "#df['VLV_RAF_REG_00'] = df['VLV_RAF_REG_00'] / 100\n",
    "#df['VLV_SUR_REG_00'] = df['VLV_SUR_REG_00'] / 100\n",
    "\n",
    "scaler = MinMaxScaler()\n",
    "act_f_m = df.loc[:,'F_M_FDBK_00']\n",
    "a_f_m_reshaped = np.array(act_f_m).reshape(-1, 1)\n",
    "a_f_m_scaled = scaler.fit_transform(a_f_m_reshaped)\n",
    "\n",
    "min_f = np.min(a_f_m_scaled)\n",
    "max_f = np.max(a_f_m_scaled)\n",
    "\n",
    "a_raf_df = df['VLV_RAF_REG_00'] * 0.5\n",
    "a_sur_df = df['VLV_SUR_REG_00'] * 0.5 + 0.5\n",
    "\n",
    "a_df = pd.concat([a_raf_df, a_sur_df], ignore_index=True)\n",
    "\n",
    "#cta_pca = os.path.join(PROJECT_PATH, 'CTA30/DF_clean/pca_df_clustered_partitioned.csv')\n",
    "#CTA_pca = [cta_pca]\n",
    "pca_df = compress_2(df_standard, 0.93)\n",
    "\n",
    "[r,c] = df.shape\n",
    "print(\"df shape: \", df.shape)\n",
    "[r,n_components] = pca_df.shape\n",
    "print(\"pca_df shape: \", pca_df.shape)\n",
    "\n"
   ]
  },
  {
   "attachments": {},
   "cell_type": "markdown",
   "metadata": {},
   "source": [
    "## Clustering & MDP Preparation"
   ]
  },
  {
   "attachments": {},
   "cell_type": "markdown",
   "metadata": {},
   "source": [
    "### Discretizzazione azioni"
   ]
  },
  {
   "cell_type": "code",
   "execution_count": 2,
   "metadata": {},
   "outputs": [],
   "source": [
    "# Trova il valore più vicino dal basso per ogni azione\n",
    "def valore_piu_vicino(lista, x):\n",
    "    if x <= lista[0]:\n",
    "        return lista[0]\n",
    "    if x >= lista[-1]:\n",
    "        return lista[-1]\n",
    "    \n",
    "    left = 0\n",
    "    right = len(lista) - 1\n",
    "    \n",
    "    while left <= right:\n",
    "        mid = (left + right) // 2\n",
    "        \n",
    "        if lista[mid] == x:\n",
    "            return lista[mid]\n",
    "        elif lista[mid] < x:\n",
    "            left = mid + 1\n",
    "        else:\n",
    "            right = mid - 1\n",
    "    \n",
    "    if abs(lista[left] - x) < abs(lista[right] - x):\n",
    "        return lista[left]\n",
    "    else:\n",
    "        return lista[right]\n",
    "\n",
    "# Aggiungi un ultimo step agli intervalli di discretizzazione, così da considerare il valore massimo\n",
    "def discretize_actions(min_value, max_value, num, upper):\n",
    "    ret = np.linspace(min_value, max_value, num=num)\n",
    "    if upper == True:\n",
    "        step = ret[1] - ret[0]\n",
    "        # add to last element step + ret[-1]\n",
    "        ret = np.append(ret, step + ret[-1])\n",
    "    return ret"
   ]
  },
  {
   "cell_type": "code",
   "execution_count": 90,
   "metadata": {},
   "outputs": [],
   "source": [
    "#df['a1_discrete'] = None\n",
    "#df['a2_discrete'] = None\n",
    "#df['a3_discrete'] = None\n",
    "\n",
    "[S, features] = df.shape\n",
    "\n",
    "n_a1 = 15\n",
    "n_a2 = 9\n",
    "n_a3 = 9\n",
    "\n",
    "a1_intervals = discretize_actions(df['F_M_FDBK_00'].min(), df['F_M_FDBK_00'].max(), num=n_a1, upper=True)\n",
    "a2_intervals = discretize_actions(0, 1, num=n_a2, upper=True)\n",
    "a3_intervals = discretize_actions(0, 1, num=n_a3, upper=True)\n",
    "a1_intervals_list = a1_intervals.tolist()\n",
    "a2_intervals_list = a2_intervals.tolist()\n",
    "a3_intervals_list = a3_intervals.tolist()\n",
    "\n",
    "a1_intervals = [round(num, 4) for num in a1_intervals_list]\n",
    "a2_intervals = [round(num, 4) for num in a2_intervals_list]\n",
    "a3_intervals = [round(num, 4) for num in a3_intervals_list]\n",
    "\n"
   ]
  },
  {
   "cell_type": "code",
   "execution_count": 91,
   "metadata": {},
   "outputs": [],
   "source": [
    "for i in range(S):\n",
    "    ret1 = valore_piu_vicino(a1_intervals, df.loc[i,'F_M_FDBK_00'])\n",
    "    df.loc[i,'a1_discrete'] = ret1\n",
    "\n",
    "    ret2 = valore_piu_vicino(a2_intervals, df.loc[i,'VLV_RAF_REG_00'])\n",
    "    df.loc[i,'a2_discrete'] = ret2\n",
    "\n",
    "    ret3 = valore_piu_vicino(a3_intervals, df.loc[i,'VLV_SUR_REG_00'])\n",
    "    df.loc[i,'a3_discrete'] = ret3\n"
   ]
  },
  {
   "attachments": {},
   "cell_type": "markdown",
   "metadata": {},
   "source": [
    "#### Graphical Model - Action"
   ]
  },
  {
   "cell_type": "code",
   "execution_count": 92,
   "metadata": {},
   "outputs": [
    {
     "data": {
      "image/png": "[encoded data removed]",
      "text/plain": [
       "<Figure size 700x300 with 1 Axes>"
      ]
     },
     "metadata": {},
     "output_type": "display_data"
    },
    {
     "data": {
      "image/png": "[encoded data removed]",
      "text/plain": [
       "<Figure size 700x300 with 1 Axes>"
      ]
     },
     "metadata": {},
     "output_type": "display_data"
    },
    {
     "data": {
      "image/png": "[encoded data removed]",
      "text/plain": [
       "<Figure size 700x300 with 1 Axes>"
      ]
     },
     "metadata": {},
     "output_type": "display_data"
    }
   ],
   "source": [
    "# plot values of a bin graphic of a1_discrete\n",
    "plt.figure(figsize=(7,3))\n",
    "plt.plot(df['a1_discrete'])\n",
    "plt.show()\n",
    "\n",
    "# plot values of a bin graphic of a2_discrete\n",
    "plt.figure(figsize=(7,3))\n",
    "plt.plot(df['a2_discrete'])\n",
    "plt.show()\n",
    "\n",
    "# plot values of a bin graphic of a3_discrete\n",
    "plt.figure(figsize=(7,3))\n",
    "plt.plot(df['a3_discrete'])\n",
    "plt.show()\n"
   ]
  },
  {
   "attachments": {},
   "cell_type": "markdown",
   "metadata": {},
   "source": [
    "#### Actions Array (ind2sub)"
   ]
  },
  {
   "cell_type": "code",
   "execution_count": 94,
   "metadata": {},
   "outputs": [
    {
     "name": "stdout",
     "output_type": "stream",
     "text": [
      "n_a1: 16\n",
      "n_a2: 10\n",
      "n_a3: 10\n",
      "numero azioni:  1600\n",
      "actions:  [[  0.       0.       0.    ]\n",
      " [  0.       0.       0.125 ]\n",
      " [  0.       0.       0.25  ]\n",
      " ...\n",
      " [107.5063   1.125    0.875 ]\n",
      " [107.5063   1.125    1.    ]\n",
      " [107.5063   1.125    1.125 ]]\n",
      "actions shape:  (1600, 3)\n"
     ]
    }
   ],
   "source": [
    "n_a1 = len(a1_intervals)\n",
    "n_a2 = len(a2_intervals)\n",
    "n_a3 = len(a3_intervals)\n",
    "\n",
    "print(\"n_a1:\", n_a1)\n",
    "print(\"n_a2:\", n_a2)\n",
    "print(\"n_a3:\", n_a3)\n",
    "\n",
    "n_A = n_a1*n_a2*n_a3\n",
    "print(\"numero azioni: \", n_A)\n",
    "\n",
    "actions = np.zeros((n_A, 3))\n",
    "for i in range (n_A):\n",
    "    [a1, a2, a3] = ind2sub((n_a1, n_a2, n_a3), i)\n",
    "    actions[i,0] = a1_intervals[a1]\n",
    "    actions[i,1] = a2_intervals[a2]\n",
    "    actions[i,2] = a3_intervals[a3]\n",
    "\n",
    "print(\"actions: \",actions)\n",
    "print(\"actions shape: \",actions.shape)"
   ]
  },
  {
   "attachments": {},
   "cell_type": "markdown",
   "metadata": {},
   "source": [
    "#### Save (no Cluster)"
   ]
  },
  {
   "cell_type": "code",
   "execution_count": 95,
   "metadata": {},
   "outputs": [],
   "source": [
    "# save new df on cvs as df_clustered_partitioned.csv\n",
    "df['Cluster'] = None\n",
    "#df.to_csv(os.path.join(PROJECT_PATH, 'CTA30/DF_clean/df_partitioned.csv'), index=False)\n",
    "# save pca_df on cvs as pca_df_clustered_partitioned.csv\n",
    "#pca_df.to_csv(os.path.join(PROJECT_PATH, 'CTA30/DF_clean/pca_df_clustered_partitioned.csv'), index=False)\n",
    "\n",
    "#save actions as array\n",
    "np.save(os.path.join(PROJECT_PATH, 'MDP_data/actions.npy'), actions)"
   ]
  },
  {
   "attachments": {},
   "cell_type": "markdown",
   "metadata": {},
   "source": [
    "### CARICAMENTO DATI DA FILE TEMPORANEO"
   ]
  },
  {
   "cell_type": "code",
   "execution_count": 6,
   "metadata": {},
   "outputs": [],
   "source": [
    "# carica actions da array\n",
    "actions = np.load(os.path.join(PROJECT_PATH, 'MDP_data/actions.npy'))\n",
    "\n",
    "# carica cluster_group_df da csv\n",
    "cluster_group_df = pd.read_csv(os.path.join(PROJECT_PATH, 'CTA30/DF_clean/cluster_group_df.csv'))\n"
   ]
  },
  {
   "attachments": {},
   "cell_type": "markdown",
   "metadata": {},
   "source": [
    "### Clustering"
   ]
  },
  {
   "cell_type": "code",
   "execution_count": 103,
   "metadata": {},
   "outputs": [],
   "source": [
    "campioni = [8, 10, 15, 22, 30]\n",
    "cluster_group = []\n",
    "for i in campioni:\n",
    "    n_cluster = i\n",
    "    kmeans = KMeans(n_clusters=n_cluster, random_state=0).fit(pca_df)\n",
    "    cluster_group.append(kmeans.labels_)\n",
    "\n",
    "cluster_group_df = pd.DataFrame(cluster_group)\n",
    "cluster_group_df = cluster_group_df.transpose()\n",
    "cluster_group_df.shape\n",
    "cluster_group_df.columns = ['Cluster_8', 'Cluster_10', 'Cluster_15', 'Cluster_22', 'Cluster_30']\n",
    "cluster_group_df.to_csv(os.path.join(PROJECT_PATH, 'CTA30/DF_clean/cluster_group_df.csv'), index=False)\n",
    "\n"
   ]
  },
  {
   "attachments": {},
   "cell_type": "markdown",
   "metadata": {},
   "source": [
    "#### Grapich Distribution - Clusters"
   ]
  },
  {
   "cell_type": "code",
   "execution_count": 11,
   "metadata": {},
   "outputs": [
    {
     "data": {
      "image/png": "[encoded data removed]",
      "text/plain": [
       "<Figure size 700x300 with 1 Axes>"
      ]
     },
     "metadata": {},
     "output_type": "display_data"
    },
    {
     "data": {
      "image/png": "[encoded data removed]",
      "text/plain": [
       "<Figure size 700x300 with 1 Axes>"
      ]
     },
     "metadata": {},
     "output_type": "display_data"
    },
    {
     "data": {
      "image/png": "[encoded data removed]",
      "text/plain": [
       "<Figure size 700x300 with 1 Axes>"
      ]
     },
     "metadata": {},
     "output_type": "display_data"
    },
    {
     "data": {
      "image/png": "[encoded data removed]",
      "text/plain": [
       "<Figure size 700x300 with 1 Axes>"
      ]
     },
     "metadata": {},
     "output_type": "display_data"
    },
    {
     "data": {
      "image/png": "[encoded data removed]",
      "text/plain": [
       "<Figure size 700x300 with 1 Axes>"
      ]
     },
     "metadata": {},
     "output_type": "display_data"
    }
   ],
   "source": [
    "frequenze = cluster_group_df['Cluster_8'].value_counts().values\n",
    "etichette = cluster_group_df['Cluster_8'].value_counts().index\n",
    "\n",
    "plt.figure(figsize=(7,3))\n",
    "plt.hist(etichette, bins=8, weights=frequenze)\n",
    "plt.xticks(etichette)\n",
    "plt.title(\"Cluster_8\")\n",
    "plt.show()\n",
    "\n",
    "frequenze = cluster_group_df['Cluster_10'].value_counts().values\n",
    "etichette = cluster_group_df['Cluster_10'].value_counts().index\n",
    "\n",
    "plt.figure(figsize=(7,3))\n",
    "plt.hist(etichette, bins=10, weights=frequenze)\n",
    "plt.xticks(etichette)\n",
    "plt.title(\"Cluster_10\")\n",
    "plt.show()\n",
    "\n",
    "frequenze = cluster_group_df['Cluster_15'].value_counts().values\n",
    "etichette = cluster_group_df['Cluster_15'].value_counts().index\n",
    "\n",
    "plt.figure(figsize=(7,3))\n",
    "plt.hist(etichette, bins=15, weights=frequenze)\n",
    "plt.xticks(etichette)\n",
    "plt.title(\"Cluster_15\")\n",
    "plt.show()\n",
    "\n",
    "frequenze = cluster_group_df['Cluster_22'].value_counts().values\n",
    "etichette = cluster_group_df['Cluster_22'].value_counts().index\n",
    "\n",
    "plt.figure(figsize=(7,3))\n",
    "plt.hist(etichette, bins=22, weights=frequenze)\n",
    "plt.xticks(etichette)\n",
    "plt.title(\"Cluster_22\")\n",
    "plt.show()\n",
    "\n",
    "frequenze = cluster_group_df['Cluster_30'].value_counts().values\n",
    "etichette = cluster_group_df['Cluster_30'].value_counts().index\n",
    "\n",
    "plt.figure(figsize=(7,3))\n",
    "plt.hist(etichette, bins=30, weights=frequenze)\n",
    "plt.xticks(etichette)\n",
    "plt.title(\"Cluster_30\")\n",
    "plt.show()\n"
   ]
  },
  {
   "attachments": {},
   "cell_type": "markdown",
   "metadata": {},
   "source": [
    "#### Probabilità Azioni"
   ]
  },
  {
   "cell_type": "code",
   "execution_count": 110,
   "metadata": {},
   "outputs": [
    {
     "name": "stdout",
     "output_type": "stream",
     "text": [
      "missed:  0\n"
     ]
    }
   ],
   "source": [
    "missed = []\n",
    "\n",
    "# Iterazione sul DataFrame per popolare la matrice\n",
    "for cluster_model in cluster_group_df.columns:\n",
    "\n",
    "    df['Cluster'] = cluster_group_df[cluster_model]\n",
    "    n_cluster = cluster_group_df[cluster_model].max() + 1\n",
    "    prob_matrix_a1 = np.zeros((n_cluster, len(a1_intervals)))\n",
    "    prob_matrix_a2 = np.zeros((n_cluster, len(a2_intervals)))\n",
    "    prob_matrix_a3 = np.zeros((n_cluster, len(a3_intervals)))\n",
    "\n",
    "    missed.append(\"Cluster: \" + str(cluster_model))\n",
    "\n",
    "    for i in range(S):\n",
    "        cluster = df.loc[i, 'Cluster']\n",
    "        a1_discrete = df.loc[i, 'a1_discrete']\n",
    "        a2_discrete = df.loc[i, 'a2_discrete']\n",
    "        a3_discrete = df.loc[i, 'a3_discrete']\n",
    "\n",
    "        try:\n",
    "            a1_index = a1_intervals.index(a1_discrete)\n",
    "            cluster = int(cluster)\n",
    "            a1_index = int(a1_index)\n",
    "            prob_matrix_a1[cluster, a1_index] += 1\n",
    "\n",
    "            a2_index = a2_intervals.index(a2_discrete)\n",
    "            cluster = int(cluster)\n",
    "            a2_index = int(a2_index)\n",
    "            prob_matrix_a2[cluster, a2_index] += 1\n",
    "\n",
    "            a3_index = a3_intervals.index(a3_discrete)\n",
    "            cluster = int(cluster)\n",
    "            a3_index = int(a3_index)\n",
    "            prob_matrix_a3[cluster, a3_index] += 1\n",
    "\n",
    "        except:\n",
    "            missed.append([i])\n",
    "\n",
    "\n",
    "\n",
    "\n",
    "# Calcolo delle probabilità normalizzate\n",
    "#row_sums = prob_matrix.sum(axis=1)\n",
    "#prob_matrix = prob_matrix / row_sums[:, np.newaxis]\n",
    "\n",
    "print(\"missed: \", len(missed)-5)"
   ]
  },
  {
   "attachments": {},
   "cell_type": "markdown",
   "metadata": {},
   "source": [
    "##### Save Probabilità Azioni"
   ]
  },
  {
   "cell_type": "code",
   "execution_count": 111,
   "metadata": {},
   "outputs": [],
   "source": [
    "# save prob_matrix_a1 as array on npy file\n",
    "np.save(os.path.join(PROJECT_PATH, 'MDP_data/prob_matrix_a1.npy'), prob_matrix_a1)\n",
    "# save prob_matrix_a2 as array on npy file\n",
    "np.save(os.path.join(PROJECT_PATH, 'MDP_data/prob_matrix_a2.npy'), prob_matrix_a2)\n",
    "# save prob_matrix_a3 as array on npy file\n",
    "np.save(os.path.join(PROJECT_PATH, 'MDP_data/prob_matrix_a3.npy'), prob_matrix_a3)"
   ]
  },
  {
   "attachments": {},
   "cell_type": "markdown",
   "metadata": {},
   "source": [
    "#### Matrice di Transizione"
   ]
  },
  {
   "cell_type": "code",
   "execution_count": 36,
   "metadata": {},
   "outputs": [],
   "source": [
    "T = np.zeros((n_cluster, n_cluster, n_A))\n",
    "\n",
    "for i1 in range(n_cluster):\n",
    "    for i2 in range(n_cluster):\n",
    "        for i3 in range(n_A):\n",
    "            [a1, a2, a3] = ind2sub((n_a1, n_a2, n_a3), i3)\n",
    "            try:\n",
    "                T[i1, i2, i3] = p_a1[i1][a1] * p_a2[i2][a2] * p_a3[i2][a3]\n",
    "            except:\n",
    "                T[i1, i2, i3] = 0\n",
    "\n"
   ]
  },
  {
   "attachments": {},
   "cell_type": "markdown",
   "metadata": {},
   "source": [
    "#### Matrice dei Reward"
   ]
  },
  {
   "cell_type": "code",
   "execution_count": 59,
   "metadata": {},
   "outputs": [
    {
     "data": {
      "text/plain": [
       "[[0    218686\n",
       "  5     13949\n",
       "  6      6520\n",
       "  7      4353\n",
       "  3      2343\n",
       "  4       550\n",
       "  1         8\n",
       "  2         4\n",
       "  Name: a1_discrete, dtype: int64],\n",
       " [14    185122\n",
       "  7      41354\n",
       "  0         51\n",
       "  Name: a1_discrete, dtype: int64],\n",
       " [0     437356\n",
       "  7     194573\n",
       "  5      74150\n",
       "  14     32315\n",
       "  6      11910\n",
       "  4       7711\n",
       "  3       1114\n",
       "  2         31\n",
       "  1         29\n",
       "  Name: a1_discrete, dtype: int64],\n",
       " [0     196026\n",
       "  7      52884\n",
       "  5        688\n",
       "  3        434\n",
       "  6        125\n",
       "  4        125\n",
       "  14        54\n",
       "  1          4\n",
       "  2          2\n",
       "  Name: a1_discrete, dtype: int64],\n",
       " [7     179354\n",
       "  0      20899\n",
       "  14     18082\n",
       "  5       2977\n",
       "  4       2636\n",
       "  6        107\n",
       "  3         64\n",
       "  Name: a1_discrete, dtype: int64],\n",
       " [14    102553\n",
       "  7      27567\n",
       "  0       1367\n",
       "  3          1\n",
       "  Name: a1_discrete, dtype: int64],\n",
       " [14    121451\n",
       "  7      56404\n",
       "  0         96\n",
       "  3          1\n",
       "  Name: a1_discrete, dtype: int64],\n",
       " [14    74537\n",
       "  7     50282\n",
       "  4     19540\n",
       "  5     10403\n",
       "  6      4304\n",
       "  3      1276\n",
       "  2         5\n",
       "  1         1\n",
       "  Name: a1_discrete, dtype: int64]]"
      ]
     },
     "execution_count": 59,
     "metadata": {},
     "output_type": "execute_result"
    }
   ],
   "source": [
    "total_counts_a1"
   ]
  },
  {
   "cell_type": "code",
   "execution_count": 58,
   "metadata": {},
   "outputs": [
    {
     "name": "stdout",
     "output_type": "stream",
     "text": [
      "8\n"
     ]
    }
   ],
   "source": [
    "\n",
    "R = np.zeros((n_cluster, n_A))\n",
    "\n",
    "cluster_rewards = []\n",
    "cluster_sums = []\n",
    "cluster_means = []\n",
    "\n",
    "for i in range(n_cluster):\n",
    "    cluster_data = df[df['Cluster'] == i]\n",
    "    cluster_sum = cluster_data['PW_ATT_M_00'].sum()\n",
    "    cluster_mean = cluster_data['PW_ATT_M_00'].mean()\n",
    "    cluster_sums.append(cluster_sum)\n",
    "    cluster_means.append(cluster_mean)\n",
    "\n",
    "\n",
    "df_clusters = {\n",
    "    'Cluster': range(n_cluster),\n",
    "    'Sum': cluster_sums,\n",
    "    'PW Mean': cluster_means,\n",
    "    'p(a1)': p_a1,\n",
    "    'p(a2)': p_a2,\n",
    "    'p(a3)': p_a3\n",
    "}\n",
    "\n",
    "df_clusters = pd.DataFrame(df_clusters)\n",
    "# substitute NaN with 0\n",
    "df_clusters = df_clusters.fillna(0)\n",
    "df_clusters\n",
    "print(len(p_a1))"
   ]
  },
  {
   "cell_type": "code",
   "execution_count": null,
   "metadata": {},
   "outputs": [],
   "source": [
    "\n",
    "for i1 in range(n_cluster):\n",
    "    for i2 in range(n_A):\n",
    "        try:\n",
    "            [a1, a2, a3] = ind2sub((n_a1, n_a2, n_a3), i2)\n",
    "            R[i1, i2] = np.mean(df.loc[(df['Cluster'] == i1) & (df['a1_discrete'] == a1) & (df['a2_discrete'] == a2) & (df['a3_discrete'] == a3), -'PW_ATT_00'])\n",
    "        except:\n",
    "            R[i1, i2] = 0"
   ]
  },
  {
   "attachments": {},
   "cell_type": "markdown",
   "metadata": {},
   "source": [
    "##### Save"
   ]
  },
  {
   "cell_type": "code",
   "execution_count": 39,
   "metadata": {},
   "outputs": [],
   "source": [
    "np.save('T_matrix.npy', T)\n",
    "np.save('R_matrix.npy', R)"
   ]
  },
  {
   "cell_type": "code",
   "execution_count": 45,
   "metadata": {},
   "outputs": [
    {
     "name": "stdout",
     "output_type": "stream",
     "text": [
      "numero celle con reward:  0\n",
      "numero celle con transizione:  48432\n"
     ]
    }
   ],
   "source": [
    "count = 0\n",
    "for i in range(n_cluster):\n",
    "    for j in range(n_A):\n",
    "        if R[i,j] != 0:\n",
    "            count += 1\n",
    "print(\"numero celle con reward: \", count)\n",
    "\n",
    "countT = 0\n",
    "for i in range(n_cluster):\n",
    "    for j in range(n_cluster):\n",
    "        for k in range(n_A):\n",
    "            if T[i,j,k] != 0:\n",
    "                countT += 1\n",
    "print(\"numero celle con transizione: \", countT)"
   ]
  }
 ],
 "metadata": {
  "kernelspec": {
   "display_name": "tesi_env",
   "language": "python",
   "name": "python3"
  },
  "language_info": {
   "codemirror_mode": {
    "name": "ipython",
    "version": 3
   },
   "file_extension": ".py",
   "mimetype": "text/x-python",
   "name": "python",
   "nbconvert_exporter": "python",
   "pygments_lexer": "ipython3",
   "version": "3.10.9"
  },
  "orig_nbformat": 4
 },
 "nbformat": 4,
 "nbformat_minor": 2
}
