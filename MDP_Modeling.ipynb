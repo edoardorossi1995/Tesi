{
 "cells": [
  {
   "attachments": {},
   "cell_type": "markdown",
   "metadata": {},
   "source": [
    "# Simulazione Real Environment "
   ]
  },
  {
   "attachments": {},
   "cell_type": "markdown",
   "metadata": {},
   "source": [
    "## Drive & Environment Setting"
   ]
  },
  {
   "cell_type": "code",
   "execution_count": 2,
   "metadata": {},
   "outputs": [
    {
     "name": "stdout",
     "output_type": "stream",
     "text": [
      "/Users/edoardorossi/Documents/Universita/Tesi/Tesi_GDrive\n",
      "Libraries imported\n"
     ]
    }
   ],
   "source": [
    "IN_COLAB = False\n",
    "\n",
    "try:\n",
    "  import google.colab\n",
    "  IN_COLAB = True\n",
    "except:\n",
    "  pass\n",
    "\n",
    "if IN_COLAB == True:\n",
    "  from google.colab import drive\n",
    "  drive.mount('/content/gdrive')\n",
    "  %cd /content/gdrive/MyDrive/Tesi_GDrive\n",
    "  PROJECT_PATH = '/content/gdrive/MyDrive/Tesi_GDrive'\n",
    "  #!ls\n",
    "else:\n",
    "  %cd /Users/edoardorossi/Documents/Universita/Tesi/Tesi_GDrive\n",
    "  PROJECT_PATH = '/Users/edoardorossi/Documents/Universita/Tesi/Tesi_GDrive'\n",
    "\n",
    "import warnings\n",
    "import pickle\n",
    "import sys\n",
    "import os\n",
    "\n",
    "if IN_COLAB == True:\n",
    "  sys.path.insert(0, os.path.abspath('functions'))\n",
    "  sys.path.insert(0, os.path.abspath(''))\n",
    "else:\n",
    "  sys.path.insert(0, os.path.abspath('functions'))\n",
    "  sys.path.insert(0, os.path.abspath(''))\n",
    "\n",
    "warnings.filterwarnings('ignore')\n",
    "\n",
    "import pandas as pd\n",
    "import numpy as np\n",
    "import matplotlib.pyplot as plt\n",
    "from sklearn.preprocessing import MinMaxScaler\n",
    "from sklearn.decomposition import PCA\n",
    "from sklearn.cluster import KMeans\n",
    "from sklearn.metrics import silhouette_score\n",
    "from keras.models import Sequential, Model\n",
    "from keras.layers import Dense, Lambda\n",
    "from keras.layers import Activation\n",
    "from keras.activations import exponential, relu\n",
    "from keras import backend as K\n",
    "import tensorflow as tf\n",
    "from tensorflow.keras.layers import Input, Layer, InputSpec, Reshape\n",
    "from tensorflow.keras import initializers\n",
    "from tensorflow.keras.optimizers import Adam\n",
    "tf.config.run_functions_eagerly(True)\n",
    "from scipy.optimize import minimize, differential_evolution\n",
    "\n",
    "from pkl import store_data, load_data\n",
    "from functions.compressor import compress\n",
    "from functions.compressor_param import compress_2\n",
    "\n",
    "\n",
    "import random\n",
    "from collections import defaultdict\n",
    "\n",
    "import time\n",
    "\n",
    "\n",
    "\n",
    "print(\"Libraries imported\")"
   ]
  },
  {
   "attachments": {},
   "cell_type": "markdown",
   "metadata": {},
   "source": [
    "## Import Anagrafica & CTA"
   ]
  },
  {
   "cell_type": "code",
   "execution_count": 3,
   "metadata": {},
   "outputs": [
    {
     "name": "stdout",
     "output_type": "stream",
     "text": [
      "df18 shape:  (141811, 76)\n",
      "df19 shape:  (523489, 76)\n",
      "df shape:  (665300, 76)\n",
      "pca_df shape:  (665300, 6)\n"
     ]
    }
   ],
   "source": [
    "cta30_def_path = os.path.join(PROJECT_PATH, 'CTA30/DF_clean/clean_CTA_30_def.csv')\n",
    "CTA30_def = [cta30_def_path]\n",
    "  \n",
    "df_def = pd.read_csv(CTA30_def[0])\n",
    "\n",
    "cta30_18_path = os.path.join(PROJECT_PATH, 'CTA30/DF_clean/clean_CTA_30_2018.csv')\n",
    "cta30_19_path = os.path.join(PROJECT_PATH, 'CTA30/DF_clean/clean_CTA_30_2019.csv')\n",
    "cta30_20_path = os.path.join(PROJECT_PATH, 'CTA30/DF_clean/clean_CTA_30_2020.csv')\n",
    "CTA30_18 = [cta30_18_path]\n",
    "CTA30_19 = [cta30_19_path]\n",
    "CTA30_20 = [cta30_20_path]\n",
    "\n",
    "df18= pd.read_csv(CTA30_18[0])\n",
    "df19= pd.read_csv(CTA30_19[0])\n",
    "df20= pd.read_csv(CTA30_20[0])\n",
    "df = pd.concat([df18, df19], ignore_index=True)\n",
    "\n",
    "df['VLV_RAF_FDBK_00'] = df['VLV_RAF_FDBK_00'] / 100\n",
    "df['VLV_SUR_FDBK_00'] = df['VLV_SUR_FDBK_00'] / 100\n",
    "\n",
    "scaler = MinMaxScaler()\n",
    "act_f_m = df.loc[:,'F_M_FDBK_00']\n",
    "a_f_m_reshaped = np.array(act_f_m).reshape(-1, 1)\n",
    "a_f_m_scaled = scaler.fit_transform(a_f_m_reshaped)\n",
    "\n",
    "min_f = np.min(a_f_m_scaled)\n",
    "max_f = np.max(a_f_m_scaled)\n",
    "\n",
    "a_raf_df = df['VLV_RAF_FDBK_00'] * 0.5\n",
    "a_sur_df = df['VLV_SUR_FDBK_00'] * 0.5 + 0.5\n",
    "\n",
    "a_df = pd.concat([a_raf_df, a_sur_df], ignore_index=True)\n",
    "\n",
    "pca_df = compress_2(df, 0.93)\n",
    "print(\"df18 shape: \", df18.shape)\n",
    "print(\"df19 shape: \", df19.shape)\n",
    "[r,c] = df.shape\n",
    "print(\"df shape: \", df.shape)\n",
    "[r,n_components] = pca_df.shape\n",
    "print(\"pca_df shape: \", pca_df.shape)"
   ]
  },
  {
   "cell_type": "code",
   "execution_count": 4,
   "metadata": {},
   "outputs": [
    {
     "data": {
      "image/png": "[encoded data removed]",
      "text/plain": [
       "<Figure size 640x480 with 1 Axes>"
      ]
     },
     "metadata": {},
     "output_type": "display_data"
    },
    {
     "ename": "KeyboardInterrupt",
     "evalue": "",
     "output_type": "error",
     "traceback": [
      "\u001b[0;31m---------------------------------------------------------------------------\u001b[0m",
      "\u001b[0;31mKeyboardInterrupt\u001b[0m                         Traceback (most recent call last)",
      "Cell \u001b[0;32mIn[4], line 22\u001b[0m\n\u001b[1;32m     20\u001b[0m     kmeans \u001b[39m=\u001b[39m KMeans(n_clusters\u001b[39m=\u001b[39mk, random_state\u001b[39m=\u001b[39m\u001b[39m42\u001b[39m)\n\u001b[1;32m     21\u001b[0m     kmeans\u001b[39m.\u001b[39mfit(X)\n\u001b[0;32m---> 22\u001b[0m     silhouette_scores\u001b[39m.\u001b[39mappend(silhouette_score(X, kmeans\u001b[39m.\u001b[39;49mlabels_))\n\u001b[1;32m     24\u001b[0m \u001b[39m# Visualizziamo la curva del metodo \"silhouette\"\u001b[39;00m\n\u001b[1;32m     25\u001b[0m plt\u001b[39m.\u001b[39mplot(k_range, silhouette_scores)\n",
      "File \u001b[0;32m~/opt/anaconda3/envs/tesi_env/lib/python3.10/site-packages/sklearn/metrics/cluster/_unsupervised.py:117\u001b[0m, in \u001b[0;36msilhouette_score\u001b[0;34m(X, labels, metric, sample_size, random_state, **kwds)\u001b[0m\n\u001b[1;32m    115\u001b[0m     \u001b[39melse\u001b[39;00m:\n\u001b[1;32m    116\u001b[0m         X, labels \u001b[39m=\u001b[39m X[indices], labels[indices]\n\u001b[0;32m--> 117\u001b[0m \u001b[39mreturn\u001b[39;00m np\u001b[39m.\u001b[39mmean(silhouette_samples(X, labels, metric\u001b[39m=\u001b[39;49mmetric, \u001b[39m*\u001b[39;49m\u001b[39m*\u001b[39;49mkwds))\n",
      "File \u001b[0;32m~/opt/anaconda3/envs/tesi_env/lib/python3.10/site-packages/sklearn/metrics/cluster/_unsupervised.py:237\u001b[0m, in \u001b[0;36msilhouette_samples\u001b[0;34m(X, labels, metric, **kwds)\u001b[0m\n\u001b[1;32m    233\u001b[0m kwds[\u001b[39m\"\u001b[39m\u001b[39mmetric\u001b[39m\u001b[39m\"\u001b[39m] \u001b[39m=\u001b[39m metric\n\u001b[1;32m    234\u001b[0m reduce_func \u001b[39m=\u001b[39m functools\u001b[39m.\u001b[39mpartial(\n\u001b[1;32m    235\u001b[0m     _silhouette_reduce, labels\u001b[39m=\u001b[39mlabels, label_freqs\u001b[39m=\u001b[39mlabel_freqs\n\u001b[1;32m    236\u001b[0m )\n\u001b[0;32m--> 237\u001b[0m results \u001b[39m=\u001b[39m \u001b[39mzip\u001b[39;49m(\u001b[39m*\u001b[39;49mpairwise_distances_chunked(X, reduce_func\u001b[39m=\u001b[39;49mreduce_func, \u001b[39m*\u001b[39;49m\u001b[39m*\u001b[39;49mkwds))\n\u001b[1;32m    238\u001b[0m intra_clust_dists, inter_clust_dists \u001b[39m=\u001b[39m results\n\u001b[1;32m    239\u001b[0m intra_clust_dists \u001b[39m=\u001b[39m np\u001b[39m.\u001b[39mconcatenate(intra_clust_dists)\n",
      "File \u001b[0;32m~/opt/anaconda3/envs/tesi_env/lib/python3.10/site-packages/sklearn/metrics/pairwise.py:1876\u001b[0m, in \u001b[0;36mpairwise_distances_chunked\u001b[0;34m(X, Y, reduce_func, metric, n_jobs, working_memory, **kwds)\u001b[0m\n\u001b[1;32m   1874\u001b[0m \u001b[39mif\u001b[39;00m reduce_func \u001b[39mis\u001b[39;00m \u001b[39mnot\u001b[39;00m \u001b[39mNone\u001b[39;00m:\n\u001b[1;32m   1875\u001b[0m     chunk_size \u001b[39m=\u001b[39m D_chunk\u001b[39m.\u001b[39mshape[\u001b[39m0\u001b[39m]\n\u001b[0;32m-> 1876\u001b[0m     D_chunk \u001b[39m=\u001b[39m reduce_func(D_chunk, sl\u001b[39m.\u001b[39;49mstart)\n\u001b[1;32m   1877\u001b[0m     _check_chunk_size(D_chunk, chunk_size)\n\u001b[1;32m   1878\u001b[0m \u001b[39myield\u001b[39;00m D_chunk\n",
      "File \u001b[0;32m~/opt/anaconda3/envs/tesi_env/lib/python3.10/site-packages/sklearn/metrics/cluster/_unsupervised.py:137\u001b[0m, in \u001b[0;36m_silhouette_reduce\u001b[0;34m(D_chunk, start, labels, label_freqs)\u001b[0m\n\u001b[1;32m    135\u001b[0m clust_dists \u001b[39m=\u001b[39m np\u001b[39m.\u001b[39mzeros((\u001b[39mlen\u001b[39m(D_chunk), \u001b[39mlen\u001b[39m(label_freqs)), dtype\u001b[39m=\u001b[39mD_chunk\u001b[39m.\u001b[39mdtype)\n\u001b[1;32m    136\u001b[0m \u001b[39mfor\u001b[39;00m i \u001b[39min\u001b[39;00m \u001b[39mrange\u001b[39m(\u001b[39mlen\u001b[39m(D_chunk)):\n\u001b[0;32m--> 137\u001b[0m     clust_dists[i] \u001b[39m+\u001b[39m\u001b[39m=\u001b[39m np\u001b[39m.\u001b[39;49mbincount(\n\u001b[1;32m    138\u001b[0m         labels, weights\u001b[39m=\u001b[39;49mD_chunk[i], minlength\u001b[39m=\u001b[39;49m\u001b[39mlen\u001b[39;49m(label_freqs)\n\u001b[1;32m    139\u001b[0m     )\n\u001b[1;32m    141\u001b[0m \u001b[39m# intra_index selects intra-cluster distances within clust_dists\u001b[39;00m\n\u001b[1;32m    142\u001b[0m intra_index \u001b[39m=\u001b[39m (np\u001b[39m.\u001b[39marange(\u001b[39mlen\u001b[39m(D_chunk)), labels[start : start \u001b[39m+\u001b[39m \u001b[39mlen\u001b[39m(D_chunk)])\n",
      "File \u001b[0;32m<__array_function__ internals>:180\u001b[0m, in \u001b[0;36mbincount\u001b[0;34m(*args, **kwargs)\u001b[0m\n",
      "\u001b[0;31mKeyboardInterrupt\u001b[0m: "
     ]
    }
   ],
   "source": [
    "k_range = range(2, 21)\n",
    "\n",
    "# Calcoliamo la somma dei quadrati delle distanze intra-cluster per ogni valore di k\n",
    "X = pca_df\n",
    "sse = []\n",
    "for k in k_range:\n",
    "    kmeans = KMeans(n_clusters=k, random_state=42)\n",
    "    kmeans.fit(X)\n",
    "    sse.append(kmeans.inertia_)\n",
    "\n",
    "# Visualizziamo la curva del metodo \"gomito\"\n",
    "plt.plot(k_range, sse)\n",
    "plt.xlabel('Numero di cluster')\n",
    "plt.ylabel('SSE')\n",
    "plt.show()"
   ]
  },
  {
   "cell_type": "code",
   "execution_count": 13,
   "metadata": {},
   "outputs": [],
   "source": [
    "n_cluster = 8\n",
    "kmeans = KMeans(n_clusters=n_cluster, random_state=42)\n",
    "kms_df_fit = kmeans.fit(X)\n",
    "\n",
    "kms_df = kmeans.transform(X)"
   ]
  },
  {
   "cell_type": "code",
   "execution_count": 32,
   "metadata": {},
   "outputs": [
    {
     "name": "stdout",
     "output_type": "stream",
     "text": [
      "2    222241\n",
      "1    177827\n",
      "3    110769\n",
      "4     63597\n",
      "0     32316\n",
      "7     20890\n",
      "6     19949\n",
      "5     17711\n",
      "dtype: int64\n"
     ]
    }
   ],
   "source": [
    "labels = kmeans.labels_\n",
    "cluster_sizes = pd.Series(labels).value_counts()\n",
    "print(cluster_sizes)\n",
    "df['Cluster'] = labels\n",
    "pca_df['Cluster'] = labels\n"
   ]
  },
  {
   "cell_type": "code",
   "execution_count": 44,
   "metadata": {},
   "outputs": [
    {
     "name": "stdout",
     "output_type": "stream",
     "text": [
      "<bound method IndexOpsMixin.value_counts of 0          99.9998\n",
      "1         100.0128\n",
      "2          99.9898\n",
      "3         100.0072\n",
      "4          99.9782\n",
      "            ...   \n",
      "665295     50.0169\n",
      "665296     50.0213\n",
      "665297     50.0296\n",
      "665298     50.0241\n",
      "665299     50.0071\n",
      "Name: F_M_FDBK_00, Length: 665300, dtype: float64>\n"
     ]
    },
    {
     "ename": "AttributeError",
     "evalue": "'function' object has no attribute 'plt'",
     "output_type": "error",
     "traceback": [
      "\u001b[0;31m---------------------------------------------------------------------------\u001b[0m",
      "\u001b[0;31mAttributeError\u001b[0m                            Traceback (most recent call last)",
      "Cell \u001b[0;32mIn[44], line 3\u001b[0m\n\u001b[1;32m      1\u001b[0m counts \u001b[39m=\u001b[39m df[\u001b[39m'\u001b[39m\u001b[39mF_M_FDBK_00\u001b[39m\u001b[39m'\u001b[39m]\u001b[39m.\u001b[39mvalue_counts\n\u001b[1;32m      2\u001b[0m \u001b[39mprint\u001b[39m(counts)\n\u001b[0;32m----> 3\u001b[0m counts\u001b[39m.\u001b[39;49mplt\u001b[39m.\u001b[39mbar()\n",
      "\u001b[0;31mAttributeError\u001b[0m: 'function' object has no attribute 'plt'"
     ]
    }
   ],
   "source": [
    "counts = df['F_M_FDBK_00'].value_counts\n",
    "print(counts)\n"
   ]
  },
  {
   "cell_type": "code",
   "execution_count": 34,
   "metadata": {},
   "outputs": [],
   "source": [
    "# generate a df for each cluster\n",
    "cluster_dfs = []\n",
    "for i in range(n_cluster):\n",
    "    cluster_df = df[df['Cluster'] == i]\n",
    "    cluster_dfs.append(cluster_df)\n",
    "    "
   ]
  }
 ],
 "metadata": {
  "kernelspec": {
   "display_name": "tesi_env",
   "language": "python",
   "name": "python3"
  },
  "language_info": {
   "codemirror_mode": {
    "name": "ipython",
    "version": 3
   },
   "file_extension": ".py",
   "mimetype": "text/x-python",
   "name": "python",
   "nbconvert_exporter": "python",
   "pygments_lexer": "ipython3",
   "version": "3.10.9"
  },
  "orig_nbformat": 4
 },
 "nbformat": 4,
 "nbformat_minor": 2
}
