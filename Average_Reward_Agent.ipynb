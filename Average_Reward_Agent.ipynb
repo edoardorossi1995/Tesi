{
  "cells": [
    {
      "cell_type": "markdown",
      "metadata": {
        "colab_type": "text",
        "id": "view-in-github"
      },
      "source": [
        "<a href=\"https://colab.research.google.com/github/edoardorossi1995/Tesi/blob/main/Average_Reward_Agent.ipynb\" target=\"_parent\"><img src=\"https://colab.research.google.com/assets/colab-badge.svg\" alt=\"Open In Colab\"/></a>"
      ]
    },
    {
      "cell_type": "markdown",
      "metadata": {
        "id": "3vWTd_Ih2p9d"
      },
      "source": [
        "# Abstract\n",
        "\n",
        "Algoritmo Q-Learningc (off policy)\n",
        "\n",
        "Task non episodico (continuativo)\n",
        "\n",
        "Framework: Average Reward\n",
        "\n",
        "Approssimatore funzionale: Rete Neurale Convessa *(cfr. articoli)*"
      ]
    },
    {
      "attachments": {},
      "cell_type": "markdown",
      "metadata": {
        "id": "q46girwt63TH"
      },
      "source": [
        "# Drive & Environment Setting\n"
      ]
    },
    {
      "cell_type": "code",
      "execution_count": 2,
      "metadata": {
        "colab": {
          "base_uri": "https://localhost:8080/"
        },
        "id": "jajCZgNk6wXT",
        "outputId": "d1f05417-f5ae-4e9a-c5bb-8fe07c2db1e8"
      },
      "outputs": [
        {
          "name": "stdout",
          "output_type": "stream",
          "text": [
            "/Users/edoardorossi/Documents/Universita/Tesi/Tesi_GDrive\n"
          ]
        }
      ],
      "source": [
        "IN_COLAB = False\n",
        "\n",
        "try:\n",
        "  import google.colab\n",
        "  IN_COLAB = True\n",
        "except:\n",
        "  pass\n",
        "\n",
        "if IN_COLAB == True:\n",
        "  from google.colab import drive\n",
        "  drive.mount('/content/gdrive')\n",
        "  %cd /content/gdrive/MyDrive/Tesi\n",
        "  PROJECT_PATH = '/content/gdrive/MyDrive/Tesi'\n",
        "  #!ls\n",
        "else:\n",
        "  %cd /Users/edoardorossi/Documents/Universita/Tesi/Tesi_GDrive\n",
        "  PROJECT_PATH = '/Users/edoardorossi/Documents/Universita/Tesi/Tesi_GDrive'\n",
        "\n",
        "import warnings\n",
        "import pickle\n",
        "import sys\n",
        "import os\n",
        "\n",
        "if IN_COLAB == True:\n",
        "  sys.path.insert(0, os.path.abspath('functions'))\n",
        "  sys.path.insert(0, os.path.abspath(''))\n",
        "else:\n",
        "  sys.path.insert(0, os.path.abspath('functions'))\n",
        "  sys.path.insert(0, os.path.abspath(''))\n",
        "\n",
        "warnings.filterwarnings('ignore')\n",
        "\n",
        "import pandas as pd\n",
        "import numpy as np\n",
        "import matplotlib.pyplot as plt\n",
        "from sklearn.preprocessing import MinMaxScaler\n",
        "from sklearn.decomposition import PCA\n",
        "from keras.models import Sequential, Model\n",
        "from keras.layers import Dense, Lambda\n",
        "from keras.layers import Activation\n",
        "from keras.activations import exponential, relu\n",
        "from keras import backend as K\n",
        "import tensorflow as tf\n",
        "from tensorflow.keras.layers import Input, Layer, InputSpec, Reshape\n",
        "from tensorflow.keras import initializers\n",
        "tf.config.run_functions_eagerly(True)\n",
        "from scipy.optimize import minimize, differential_evolution\n",
        "\n",
        "from pkl import store_data, load_data\n",
        "from functions.compressor import compress\n",
        "\n",
        "import random\n",
        "from collections import defaultdict"
      ]
    },
    {
      "cell_type": "markdown",
      "metadata": {
        "id": "nQw2LmXT7FOT"
      },
      "source": [
        "# Import Anagrafica e CTA"
      ]
    },
    {
      "cell_type": "code",
      "execution_count": 3,
      "metadata": {
        "id": "v7Tx5Dbc6y7G"
      },
      "outputs": [],
      "source": [
        "cta30_def_path = os.path.join(PROJECT_PATH, 'CTA30/DF_clean/clean_CTA_30_def.csv')\n",
        "CTA30_def = [cta30_def_path]\n",
        "  \n",
        "df_def = pd.read_csv(CTA30_def[0])\n",
        "\n",
        "cta30_18_path = os.path.join(PROJECT_PATH, 'CTA30/DF_clean/clean_CTA_30_2018.csv')\n",
        "CTA30_18 = [cta30_18_path]\n",
        "\n",
        "df = pd.read_csv(CTA30_18[0])\n",
        "df['VLV_RAF_FDBK_00'] = df['VLV_RAF_FDBK_00'] / 100\n",
        "df['VLV_SUR_FDBK_00'] = df['VLV_SUR_FDBK_00'] / 100\n",
        "scaler = MinMaxScaler()\n",
        "act_f_m = df.loc[:,'F_M_FDBK_00']\n",
        "a_f_m_reshaped = np.array(act_f_m).reshape(-1, 1)\n",
        "a_f_m_scaled = scaler.fit_transform(a_f_m_reshaped)\n",
        "\n",
        "pca_df = compress(df)"
      ]
    },
    {
      "cell_type": "code",
      "execution_count": 4,
      "metadata": {
        "colab": {
          "base_uri": "https://localhost:8080/"
        },
        "id": "7QMdpC4_8QV-",
        "outputId": "b7a2b66d-e47c-4e6f-fb23-6313573db2f8"
      },
      "outputs": [
        {
          "name": "stdout",
          "output_type": "stream",
          "text": [
            "Anagrafica shape: (76, 2) \n",
            "Dataframe shape: (141811, 76) \n",
            "Pca Dataframe shape: (141811, 7)\n"
          ]
        }
      ],
      "source": [
        "print(\"Anagrafica shape:\",df_def.shape,\"\\nDataframe shape:\", df.shape,\"\\nPca Dataframe shape:\", pca_df.shape)"
      ]
    },
    {
      "cell_type": "code",
      "execution_count": 5,
      "metadata": {
        "colab": {
          "base_uri": "https://localhost:8080/",
          "height": 0
        },
        "id": "sQRpOWyFHXi6",
        "outputId": "b6cf3fcf-50e9-42e8-9f7a-bb045776f8df"
      },
      "outputs": [
        {
          "data": {
            "text/html": [
              "<div>\n",
              "<style scoped>\n",
              "    .dataframe tbody tr th:only-of-type {\n",
              "        vertical-align: middle;\n",
              "    }\n",
              "\n",
              "    .dataframe tbody tr th {\n",
              "        vertical-align: top;\n",
              "    }\n",
              "\n",
              "    .dataframe thead th {\n",
              "        text-align: right;\n",
              "    }\n",
              "</style>\n",
              "<table border=\"1\" class=\"dataframe\">\n",
              "  <thead>\n",
              "    <tr style=\"text-align: right;\">\n",
              "      <th></th>\n",
              "      <th>pointColName</th>\n",
              "      <th>pointName</th>\n",
              "    </tr>\n",
              "  </thead>\n",
              "  <tbody>\n",
              "    <tr>\n",
              "      <th>0</th>\n",
              "      <td>AUTOMAN_SERR_CMD_00</td>\n",
              "      <td>Automatico Manuale Serrande Comando</td>\n",
              "    </tr>\n",
              "    <tr>\n",
              "      <th>1</th>\n",
              "      <td>AUTOMAN_VLV_CMD_00</td>\n",
              "      <td>Automatico Manuale Valvole Comando</td>\n",
              "    </tr>\n",
              "    <tr>\n",
              "      <th>2</th>\n",
              "      <td>AUTOMAN_M_CMD_00</td>\n",
              "      <td>Automatico Manuale Mandata Comando</td>\n",
              "    </tr>\n",
              "    <tr>\n",
              "      <th>3</th>\n",
              "      <td>AUTOMAN_R_CMD_00</td>\n",
              "      <td>Automatico Manuale Ripresa Comando</td>\n",
              "    </tr>\n",
              "    <tr>\n",
              "      <th>4</th>\n",
              "      <td>LOCREM_CMD_00</td>\n",
              "      <td>Selettore Locale Remoto Comando</td>\n",
              "    </tr>\n",
              "    <tr>\n",
              "      <th>...</th>\n",
              "      <td>...</td>\n",
              "      <td>...</td>\n",
              "    </tr>\n",
              "    <tr>\n",
              "      <th>71</th>\n",
              "      <td>VOLT_R_00</td>\n",
              "      <td>Tensione Ripresa</td>\n",
              "    </tr>\n",
              "    <tr>\n",
              "      <th>72</th>\n",
              "      <td>T_M_SP_00</td>\n",
              "      <td>Temperatura Aria Mandata Setpoint</td>\n",
              "    </tr>\n",
              "    <tr>\n",
              "      <th>73</th>\n",
              "      <td>T_R_SP_00</td>\n",
              "      <td>Temperatura Aria Ritorno Setpoint</td>\n",
              "    </tr>\n",
              "    <tr>\n",
              "      <th>74</th>\n",
              "      <td>T_AMB_04</td>\n",
              "      <td>Temperatura Aria Ambiente Media</td>\n",
              "    </tr>\n",
              "    <tr>\n",
              "      <th>75</th>\n",
              "      <td>AUTOMAN_ST_00</td>\n",
              "      <td>Automatico Manuale Stato</td>\n",
              "    </tr>\n",
              "  </tbody>\n",
              "</table>\n",
              "<p>76 rows × 2 columns</p>\n",
              "</div>"
            ],
            "text/plain": [
              "           pointColName                            pointName\n",
              "0   AUTOMAN_SERR_CMD_00  Automatico Manuale Serrande Comando\n",
              "1    AUTOMAN_VLV_CMD_00   Automatico Manuale Valvole Comando\n",
              "2      AUTOMAN_M_CMD_00   Automatico Manuale Mandata Comando\n",
              "3      AUTOMAN_R_CMD_00   Automatico Manuale Ripresa Comando\n",
              "4         LOCREM_CMD_00      Selettore Locale Remoto Comando\n",
              "..                  ...                                  ...\n",
              "71            VOLT_R_00                     Tensione Ripresa\n",
              "72            T_M_SP_00    Temperatura Aria Mandata Setpoint\n",
              "73            T_R_SP_00    Temperatura Aria Ritorno Setpoint\n",
              "74             T_AMB_04      Temperatura Aria Ambiente Media\n",
              "75        AUTOMAN_ST_00             Automatico Manuale Stato\n",
              "\n",
              "[76 rows x 2 columns]"
            ]
          },
          "execution_count": 5,
          "metadata": {},
          "output_type": "execute_result"
        }
      ],
      "source": [
        "df_def"
      ]
    },
    {
      "cell_type": "markdown",
      "metadata": {
        "id": "SmYeYm2EJYFB"
      },
      "source": [
        "# Rete Neurale\n"
      ]
    },
    {
      "cell_type": "markdown",
      "metadata": {
        "id": "uXFYBZPCM5ED"
      },
      "source": [
        "## Custom Acts\n",
        "\n",
        "Efficient reinforcement learning via difference of\n",
        "log-sum-exp neural networks\n",
        "\n",
        "*(Sven Brüggemann, Corrado Possieri)*"
      ]
    },
    {
      "cell_type": "markdown",
      "metadata": {
        "id": "unjvBGxK9HBe"
      },
      "source": [
        "Esempio di funzione di attivazione personalizzata tramite estensione della classe Layer:\n",
        "\n",
        "il metodo build() è responsabile dell'instansiazione dei pesi;\n",
        "\n",
        "il metodo call() è la funzione di attivazione vera e propria.\n",
        "\n",
        "![Schermata 2023-03-16 alle 16.05.25.png](data:image/png;base64,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)"
      ]
    },
    {
      "cell_type": "code",
      "execution_count": 6,
      "metadata": {
        "id": "lxyK9bFAw8K7"
      },
      "outputs": [],
      "source": [
        "class ExpAct(Layer):\n",
        "  def __init__(self, input_dim, units, **kwargs):\n",
        "    super(ExpAct, self).__init__()\n",
        "    self.input_dim = input_dim\n",
        "    self.units = units\n",
        "    self.T = 0.1\n",
        "\n",
        "  def build(self, input_shape):\n",
        "    self.a = self.add_weight(name=\"a\", \n",
        "                             shape=(input_shape[-1], self.units),\n",
        "                             initializer=\"glorot_normal\", \n",
        "                             trainable=True)\n",
        "    self.b = self.add_weight(name=\"b\", \n",
        "                             shape=(self.units,),\n",
        "                             initializer=\"zeros\", \n",
        "                             trainable=True)\n",
        "\n",
        "  def call(self, x):\n",
        "    z = x / self.T\n",
        "    PSI = self.psi(x, self.a, self.b)\n",
        "    aTz = K.dot(z,self.a)\n",
        "    aTzb = (aTz+K.transpose(self.b)) / self.T\n",
        "    output = aTzb - PSI\n",
        "    return output\n",
        "\n",
        "  def psi(self, x, a, b):\n",
        "    z = x / self.T\n",
        "    ret = (K.dot(z, self.a) + K.transpose(self.b)) / self.T\n",
        "    psi = tf.reduce_max(ret)\n",
        "    return psi\n",
        "\n",
        "\n",
        "class LogAct(Layer):\n",
        "  def __init__(self, input_dim, units, **kwargs):\n",
        "    super(LogAct, self).__init__(**kwargs)\n",
        "    self.input_dim = input_dim\n",
        "    self.units = units\n",
        "    self.T = 0.1\n",
        "    \n",
        "  def build(self, input_shape):\n",
        "    self.a = self.add_weight(name=\"a\", \n",
        "                             shape=(input_shape[-1], self.units),\n",
        "                             initializer=\"glorot_normal\", \n",
        "                             trainable=True)\n",
        "    self.b = self.add_weight(name=\"b\", \n",
        "                             shape=(self.units,),\n",
        "                             initializer=\"zeros\", \n",
        "                             trainable=True)\n",
        "\n",
        "  def call(self, x):\n",
        "    z = x / self.T\n",
        "    PSI = self.psi(x, self.a, self.b)\n",
        "    output = self.T * (PSI + K.log(x))\n",
        "    return output\n",
        "\n",
        "  def psi(self, x, a, b):\n",
        "    z = x / self.T\n",
        "    ret = (K.dot(z, self.a) + K.transpose(self.b)) / self.T\n",
        "    psi = tf.reduce_max(ret)\n",
        "    return psi"
      ]
    },
    {
      "cell_type": "markdown",
      "metadata": {
        "id": "Gb0BUVXXM_-I"
      },
      "source": [
        "## NN Creation\n",
        "\n",
        "Log-sum-exp neural networks and posynomial\n",
        "models for convex and log-log-convex data \n",
        "\n",
        "*(Calafiore, Gaubert, Possieri)*"
      ]
    },
    {
      "cell_type": "code",
      "execution_count": 8,
      "metadata": {
        "colab": {
          "base_uri": "https://localhost:8080/"
        },
        "id": "nSB60YSmJZ_9",
        "outputId": "038247b0-60eb-4696-a96f-7cbe30892492"
      },
      "outputs": [
        {
          "name": "stdout",
          "output_type": "stream",
          "text": [
            "input dim:  9\n",
            "inner layer dim:  32\n",
            "output dim:  1\n"
          ]
        }
      ],
      "source": [
        "n = load_data('_.pkl')\n",
        "if IN_COLAB == True:\n",
        "    n = load_data('*.pkl')\n",
        "\n",
        "action_vector_dimension = 2\n",
        "\n",
        "# Architettura rete neurale\n",
        "input_dim = n['n_components'] + action_vector_dimension\n",
        "inner_dim_1 = 32\n",
        "output_dim = 1\n",
        "\n",
        "print(\"input dim: \", input_dim)\n",
        "print(\"inner layer dim: \", inner_dim_1)\n",
        "print(\"output dim: \", output_dim)\n",
        "\n",
        "# Costruzione strati\n",
        "rete_neurale = Sequential()\n",
        "\n",
        "# Primo strato\n",
        "input_layer = Input(shape=(input_dim,))\n",
        "exp_act_layer = ExpAct(input_dim=input_dim, units=inner_dim_1)(input_layer)\n",
        "\n",
        "\n",
        "# Secondo strato\n",
        "output_layer = Input(shape=(inner_dim_1,))\n",
        "log_act_layer = LogAct(input_dim=inner_dim_1, units=output_dim)(output_layer)\n",
        "\n",
        "rete_neurale.build(input_shape=(None, input_dim))\n",
        "rete_neurale.compile(optimizer = 'adam', loss = 'mean_squared_error', metrics = ['accuracy'])\n",
        "\n",
        "# Carica i pesi della rete salvati in file rete_neurale.h5\n",
        "rete_neurale.load_weights('rete_neurale.h5')\n",
        "\n",
        "# Definisco funzione obiettivo per la massimizzazione della predizione \n",
        "\n",
        "def objective(x):\n",
        "    pca_s_prime = pca_df.loc[s_prime,:]\n",
        "    nn_input_prime = np.concatenate((pca_s_prime.values.reshape(7,1), x[0].reshape(1,1), x[1].reshape(1,1)), axis=0)\n",
        "    nn_input_prime = np.reshape(nn_input_prime, (1,input_dim))\n",
        "    funct = rete_neurale.predict(nn_input_prime, verbose=0)[0][0]\n",
        "    return -funct"
      ]
    },
    {
      "cell_type": "code",
      "execution_count": 9,
      "metadata": {
        "colab": {
          "base_uri": "https://localhost:8080/"
        },
        "id": "0OXGSdId9Tfr",
        "outputId": "98f6c4cc-46d7-45f4-8e92-71974c94bb12"
      },
      "outputs": [
        {
          "data": {
            "text/plain": [
              "2000    19.4729\n",
              "2001    19.5258\n",
              "2002    19.6796\n",
              "2003    19.5897\n",
              "2004    19.5343\n",
              "         ...   \n",
              "5996    20.0913\n",
              "5997    20.0210\n",
              "5998    20.0126\n",
              "5999    19.9825\n",
              "6000    20.0735\n",
              "Name: PW_ATT_M_00, Length: 4001, dtype: float64"
            ]
          },
          "execution_count": 9,
          "metadata": {},
          "output_type": "execute_result"
        }
      ],
      "source": [
        "(df.loc[2000:6000,'PW_ATT_M_00'])"
      ]
    },
    {
      "cell_type": "markdown",
      "metadata": {
        "id": "_KF3EgbAI_y0"
      },
      "source": [
        "# Q-Learning Agent"
      ]
    },
    {
      "cell_type": "code",
      "execution_count": 12,
      "metadata": {
        "colab": {
          "base_uri": "https://localhost:8080/",
          "height": 236
        },
        "id": "_Dh_OuPqAJn6",
        "outputId": "700884d5-0d80-44b6-d477-625d300c7113"
      },
      "outputs": [
        {
          "name": "stdout",
          "output_type": "stream",
          "text": [
            "average_reward start:  -26 \n",
            "\n",
            "current_episode =  0\n",
            "Episodio  0 / 3000\n",
            "reward:  -0.0 \n",
            "average_reward:  -6.5\n",
            "\n",
            "\n",
            "current_episode =  20\n",
            "Episodio  20 / 3000\n",
            "reward:  -0.0 \n",
            "average_reward:  -5.9117155615240335e-12\n",
            "\n",
            "\n",
            "current_episode =  40\n",
            "Episodio  40 / 3000\n",
            "reward:  -0.0 \n",
            "average_reward:  -5.37667398159468e-24\n",
            "\n",
            "\n"
          ]
        }
      ],
      "source": [
        "differential_evolution,\n",
        "# Dimensione problema e inizializzazione stato iniziale\n",
        "[S, feat] = df.shape\n",
        "current_state = 0 # np.random.randint(0,S-1)\n",
        "\n",
        "# Stato corrente\n",
        "s = current_state\n",
        "\n",
        "min_f = np.min(a_f_m_scaled)\n",
        "max_f = np.max(a_f_m_scaled)\n",
        "\n",
        "# Parametri di apprendimento (learning rate, discount factor, average rate)\n",
        "alpha = 0.5 # non in uso\n",
        "gamma = 1\n",
        "beta = 0.75\n",
        "\n",
        "# Media mobile esponenziale (avr = avr + beta * (r - avr)) \n",
        "# [scelta perché computazionalmente più leggera di una media aritmetica]\n",
        "average_reward = -np.random.randint(np.min(df.loc[:,'PW_ATT_M_00']),np.max(df.loc[:,'PW_ATT_M_00']))\n",
        "print(\"average_reward start: \", average_reward,\"\\n\")\n",
        "\n",
        "# Setting Episodi\n",
        "total_episodes = 3000\n",
        "current_episode = 3500\n",
        "\n",
        "# Ripeti finché non raggiungi la fine del processo\n",
        "for current_episode in range(total_episodes):\n",
        "    \n",
        "    # Stato successivo e ottieni l'azione A e la ricompensa R\n",
        "    s_prime = s+1\n",
        "    if s_prime > S-1:\n",
        "      print(\"s =\", s)\n",
        "      break\n",
        "\n",
        "    a1 = df.loc[s,'F_M_FDBK_00']\n",
        "    a2 = df.loc[s,'VLV_RAF_FDBK_00']\n",
        "    a = (a1,a2)\n",
        "    r = -df.loc[s,'PW_ATT_M_00']\n",
        "    average_reward = (1 - beta) * average_reward + beta * (r)\n",
        "\n",
        "    # Condizioni iniziali (random) della minimizzazione della funzione obiettivo \n",
        "    # per la predizione di q'\n",
        "    data_f = a_f_m_scaled\n",
        "    a0_f = data_f[np.random.randint(len(data_f))]\n",
        "    a0_v = np.random.rand()\n",
        "    x0 = [a0_f, a0_v]\n",
        "\n",
        "    # Dominio della minimizzazione \n",
        "    bounds = [(min_f, max_f), (0,1)]\n",
        "\n",
        "    # Risultato della minimizzazione\n",
        "    #objective_minimized = minimize(objective, x0, method='BFGS', bounds=bounds)\n",
        "    objective_minimized = differential_evolution(objective, bounds=bounds)\n",
        "\n",
        "    # Compongo input della predizione di q'\n",
        "    a1_prime_input = objective_minimized.x[0].reshape(1,1)\n",
        "    a2_prime_input = objective_minimized.x[1].reshape(1,1)\n",
        "    s_prime_input = pca_df.loc[s_prime,:].values.reshape(7,1)\n",
        "    nn_input_prime = np.concatenate((s_prime_input, a1_prime_input, a2_prime_input),axis = 0)\n",
        "    nn_input_prime = np.reshape(nn_input_prime, (1,input_dim))\n",
        "\n",
        "    # Predizione di q'\n",
        "    q_prime = rete_neurale.predict(nn_input_prime, verbose = 0)[0]\n",
        "    q_prime = q_prime[0]\n",
        "    # Calcola la media delle ricompense future attese per lo stato-azione corrente\n",
        "    # q = avr + gamma*max(q')\n",
        "    q = (average_reward + gamma * (q_prime))\n",
        "\n",
        "    # Calcola il valore target per il training della rete neurale\n",
        "    target = q\n",
        "    target = np.array([target])\n",
        "\n",
        "    # Aggiorna la rete neurale\n",
        "    pca_s = pca_df.loc[s,:]\n",
        "    nn_input = np.concatenate((pca_s.values, np.array([a[0],a[1]])))\n",
        "    nn_input = np.reshape(nn_input, (1,input_dim))    \n",
        "    rete_neurale.fit(nn_input, target, epochs=1, verbose=0)\n",
        "\n",
        "    # Aggiorna lo stato corrente\n",
        "    s = s_prime\n",
        "\n",
        "    # Plot statistiche ogni 100 episodi    \n",
        "    n_print = 20\n",
        "    if current_episode%n_print == 0:\n",
        "      print(\"current_episode = \", current_episode)\n",
        "      print(\"Episodio \",current_episode,\"/\",total_episodes)\n",
        "      print(\"reward: \",r,\"\\naverage_reward: \",average_reward)\n",
        "      print(\"\\n\")\n",
        "\n",
        "    n_save = 5\n",
        "    if current_episode%n_save == 0:\n",
        "      # Salva la rete neurale\n",
        "      rete_neurale.save('rete_neurale.h5')\n",
        " \n",
        "# Restituisci la rete neurale ottenuta\n"
      ]
    },
    {
      "attachments": {},
      "cell_type": "markdown",
      "metadata": {},
      "source": [
        "Primo training: 0 - 1000\n",
        "\n",
        "Secondo training: 1000 - 2360\n",
        "\n",
        "Terzo training: 2360 - 3500\n",
        "\n",
        "Quarto training: 3500 - 6500"
      ]
    },
    {
      "cell_type": "markdown",
      "metadata": {},
      "source": []
    }
  ],
  "metadata": {
    "colab": {
      "authorship_tag": "ABX9TyNlTYU/w2DIUfVFfrFZewEl",
      "collapsed_sections": [
        "3vWTd_Ih2p9d"
      ],
      "include_colab_link": true,
      "provenance": []
    },
    "kernelspec": {
      "display_name": "Python 3",
      "name": "python3"
    },
    "language_info": {
      "codemirror_mode": {
        "name": "ipython",
        "version": 3
      },
      "file_extension": ".py",
      "mimetype": "text/x-python",
      "name": "python",
      "nbconvert_exporter": "python",
      "pygments_lexer": "ipython3",
      "version": "3.10.9"
    }
  },
  "nbformat": 4,
  "nbformat_minor": 0
}
