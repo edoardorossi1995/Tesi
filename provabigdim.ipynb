{
 "cells": [
  {
   "cell_type": "code",
   "execution_count": null,
   "metadata": {},
   "outputs": [],
   "source": [
    "import pandas as pd\n",
    "import numpy as np\n",
    "import matplotlib.pyplot as plt\n",
    "import matplotlib.cm as cm\n",
    "from sklearn.preprocessing import MinMaxScaler, StandardScaler\n",
    "from sklearn.decomposition import PCA\n",
    "from sklearn.cluster import KMeans, AgglomerativeClustering\n",
    "from sklearn.metrics import silhouette_score\n",
    "from sklearn.metrics import silhouette_score, silhouette_samples\n",
    "from keras.models import Sequential, Model\n",
    "from keras.layers import Dense, Lambda\n",
    "from keras.layers import Activation\n",
    "from keras.activations import exponential, relu\n",
    "from keras import backend as K\n",
    "import tensorflow as tf\n",
    "\n",
    "import time\n",
    "\n",
    "\n",
    "# crea un array np di 10000 elementi casuali tra 0 e 1, ognuno da 10 features\n",
    "X = np.random.rand(10000, 7)\n",
    "n_clusters=10\n",
    "# definizione del modello di clustering\n",
    "model = AgglomerativeClustering(n_clusters=n_clusters, linkage='ward')\n",
    "time_start = time.time()\n",
    "# esecuzione del clustering\n",
    "labels = model.fit_predict(X)\n",
    "print(\"Clustering with \", n_clusters, \"clusters completed in \", time.time()-time_start ,\"seconds\")\n",
    "\n",
    "# stampa dei risultati\n",
    "print(labels)\n",
    "\n",
    "# fai un plot a barre con il numero di elementi per cluster\n",
    "plt.hist(labels, bins=10)\n",
    "plt.show()"
   ]
  },
  {
   "attachments": {},
   "cell_type": "markdown",
   "metadata": {},
   "source": [
    "Se ti dà un risultato, aumenta di uno zero il numero di dimensioni fino a 1e6 dati."
   ]
  }
 ],
 "metadata": {
  "language_info": {
   "name": "python"
  },
  "orig_nbformat": 4
 },
 "nbformat": 4,
 "nbformat_minor": 2
}
