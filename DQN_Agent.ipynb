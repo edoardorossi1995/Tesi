{
  "cells": [
    {
      "attachments": {},
      "cell_type": "markdown",
      "metadata": {
        "colab_type": "text",
        "id": "view-in-github"
      },
      "source": [
        "<a href=\"https://colab.research.google.com/github/edoardorossi1995/Tesi/blob/main/DQN_Agent.ipynb\" target=\"_parent\"><img src=\"https://colab.research.google.com/assets/colab-badge.svg\" alt=\"Open In Colab\"/></a>"
      ]
    },
    {
      "attachments": {},
      "cell_type": "markdown",
      "metadata": {
        "id": "jSjzzy0fzAi2"
      },
      "source": [
        "# Drive & Environment Setting"
      ]
    },
    {
      "cell_type": "code",
      "execution_count": 1,
      "metadata": {
        "colab": {
          "base_uri": "https://localhost:8080/"
        },
        "id": "3apm-p7OzAjA",
        "outputId": "d325d9d2-214a-4cc6-8013-298f33ac5306"
      },
      "outputs": [
        {
          "name": "stdout",
          "output_type": "stream",
          "text": [
            "/Users/edoardorossi/Documents/Universita/Tesi/Tesi_GDrive\n"
          ]
        },
        {
          "name": "stderr",
          "output_type": "stream",
          "text": [
            "2023-05-19 15:58:05.442388: I tensorflow/core/platform/cpu_feature_guard.cc:193] This TensorFlow binary is optimized with oneAPI Deep Neural Network Library (oneDNN) to use the following CPU instructions in performance-critical operations:  SSE4.1 SSE4.2 AVX\n",
            "To enable them in other operations, rebuild TensorFlow with the appropriate compiler flags.\n"
          ]
        },
        {
          "name": "stdout",
          "output_type": "stream",
          "text": [
            "Libraries imported\n"
          ]
        }
      ],
      "source": [
        "IN_COLAB = False\n",
        "\n",
        "try:\n",
        "  import google.colab\n",
        "  IN_COLAB = True\n",
        "except:\n",
        "  pass\n",
        "\n",
        "if IN_COLAB == True:\n",
        "  from google.colab import drive\n",
        "  drive.mount('/content/gdrive')\n",
        "  %cd /content/gdrive/MyDrive/Tesi_GDrive\n",
        "  PROJECT_PATH = '/content/gdrive/MyDrive/Tesi_GDrive'\n",
        "  gpu_info = !nvidia-smi\n",
        "  gpu_info = '\\n'.join(gpu_info)\n",
        "  print(\"1\")\n",
        "  if gpu_info.find('failed')>=0:\n",
        "    print('Not connetcted to a gpu')\n",
        "  else:\n",
        "    print(gpu_info)\n",
        "    print(\"2\")\n",
        "  from psutil import virtual_memory\n",
        "  ram_gb = virtual_memory().total / 1e9\n",
        "  print('Your runtime has {:.1f} gigabytes of available RAM\\n'.format(ram_gb))\n",
        "\n",
        "  if ram_gb < 20:\n",
        "    print('Not using a high-RAM runtime')\n",
        "  else:\n",
        "    print('You are using a high-RAM runtime!')  \n",
        "  \n",
        "  #!ls\n",
        "else:\n",
        "  %cd /Users/edoardorossi/Documents/Universita/Tesi/Tesi_GDrive\n",
        "  PROJECT_PATH = '/Users/edoardorossi/Documents/Universita/Tesi/Tesi_GDrive'\n",
        "\n",
        "import warnings\n",
        "import pickle\n",
        "import sys\n",
        "import os\n",
        "\n",
        "if IN_COLAB == True:\n",
        "  sys.path.insert(0, os.path.abspath('functions'))\n",
        "  sys.path.insert(0, os.path.abspath(''))\n",
        "else:\n",
        "  sys.path.insert(0, os.path.abspath('functions'))\n",
        "  sys.path.insert(0, os.path.abspath(''))\n",
        "\n",
        "warnings.filterwarnings('ignore')\n",
        "\n",
        "import pandas as pd\n",
        "import numpy as np\n",
        "import matplotlib.pyplot as plt\n",
        "from sklearn.preprocessing import MinMaxScaler\n",
        "from sklearn.decomposition import PCA\n",
        "from keras.models import Sequential, Model\n",
        "from keras.layers import Dense, Lambda\n",
        "from keras.layers import Activation\n",
        "from keras.activations import exponential, relu\n",
        "from keras import backend as K\n",
        "import tensorflow as tf\n",
        "from tensorflow.keras.layers import Input, Layer, InputSpec, Reshape\n",
        "from tensorflow.keras import initializers\n",
        "from tensorflow.keras.optimizers import Adam\n",
        "tf.config.run_functions_eagerly(True)\n",
        "from scipy.optimize import minimize, differential_evolution\n",
        "\n",
        "from pkl import store_data, load_data\n",
        "from functions.compressor import compress\n",
        "from functions.compressor_param import compress_2\n",
        "\n",
        "import random\n",
        "from collections import defaultdict\n",
        "\n",
        "import time\n",
        "\n",
        "\n",
        "\n",
        "print(\"Libraries imported\")"
      ]
    },
    {
      "attachments": {},
      "cell_type": "markdown",
      "metadata": {
        "id": "AycD0CyZzAjC"
      },
      "source": [
        "# Import Anagrafica e CTA"
      ]
    },
    {
      "cell_type": "code",
      "execution_count": 2,
      "metadata": {
        "colab": {
          "base_uri": "https://localhost:8080/"
        },
        "id": "4DHHCqwQzAjD",
        "outputId": "bec9fffb-6025-4732-8259-0a8a600757ae"
      },
      "outputs": [
        {
          "name": "stdout",
          "output_type": "stream",
          "text": [
            "df18 shape:  (141811, 76)\n",
            "df19 shape:  (523489, 76)\n",
            "df shape:  (2176378, 76)\n",
            "pca_df shape:  (2176378, 9)\n"
          ]
        }
      ],
      "source": [
        "cta30_def_path = os.path.join(PROJECT_PATH, 'CTA30/DF_clean/clean_CTA_30_def.csv')\n",
        "CTA30_def = [cta30_def_path]\n",
        "  \n",
        "df_def = pd.read_csv(CTA30_def[0])\n",
        "\n",
        "cta30_18_path = os.path.join(PROJECT_PATH, 'CTA30/DF_clean/clean_CTA_30_2018.csv')\n",
        "cta30_19_path = os.path.join(PROJECT_PATH, 'CTA30/DF_clean/clean_CTA_30_2019.csv')\n",
        "cta30_20_path = os.path.join(PROJECT_PATH, 'CTA30/DF_clean/clean_CTA_30_2020.csv')\n",
        "cta30_21_path = os.path.join(PROJECT_PATH, 'CTA30/DF_clean/clean_CTA_30_2021.csv')\n",
        "cta30_22_path = os.path.join(PROJECT_PATH, 'CTA30/DF_clean/clean_CTA_30_2022.csv')\n",
        "CTA30_18 = [cta30_18_path]\n",
        "CTA30_19 = [cta30_19_path]\n",
        "CTA30_20 = [cta30_20_path]\n",
        "CTA30_21 = [cta30_21_path]\n",
        "CTA30_22 = [cta30_22_path]\n",
        "\n",
        "df18= pd.read_csv(CTA30_18[0])\n",
        "df19= pd.read_csv(CTA30_19[0])\n",
        "df20= pd.read_csv(CTA30_20[0])\n",
        "df21= pd.read_csv(CTA30_21[0])\n",
        "df22= pd.read_csv(CTA30_22[0])\n",
        "df = pd.concat([df18, df19, df20, df21, df22], ignore_index=True)\n",
        "\n",
        "df['VLV_RAF_REG_00'] = df['VLV_RAF_REG_00'] / 100\n",
        "df['VLV_SUR_REG_00'] = df['VLV_SUR_REG_00'] / 100\n",
        "\n",
        "scaler = MinMaxScaler()\n",
        "act_f_m = df.loc[:,'F_M_FDBK_00']\n",
        "a_f_m_reshaped = np.array(act_f_m).reshape(-1, 1)\n",
        "a_f_m_scaled = scaler.fit_transform(a_f_m_reshaped)\n",
        "r_pw_m = df.loc[:,'PW_ATT_M_00']\n",
        "r_pw_m_reshaped = np.array(r_pw_m).reshape(-1,1)\n",
        "r_pw_m_scaled = scaler.fit_transform(r_pw_m_reshaped)\n",
        "\n",
        "\n",
        "min_f = np.min(a_f_m_scaled)\n",
        "max_f = np.max(a_f_m_scaled)\n",
        "\n",
        "a_raf_df = 0.5 - df['VLV_RAF_REG_00'] * 0.5\n",
        "a_sur_df = df['VLV_SUR_REG_00'] * 0.5 + 0.5\n",
        "\n",
        "a_df = pd.concat([a_raf_df, a_sur_df], ignore_index=True)\n",
        "\n",
        "pca_df = compress_2(df, 0.93)\n",
        "print(\"df18 shape: \", df18.shape)\n",
        "print(\"df19 shape: \", df19.shape)\n",
        "[r,c] = df.shape\n",
        "print(\"df shape: \", df.shape)\n",
        "[r,n_components] = pca_df.shape\n",
        "print(\"pca_df shape: \", pca_df.shape)"
      ]
    },
    {
      "cell_type": "code",
      "execution_count": 3,
      "metadata": {
        "colab": {
          "base_uri": "https://localhost:8080/",
          "height": 0
        },
        "id": "6P5vtlPAzAjE",
        "outputId": "8a31d6bd-1b99-485f-8a60-6273b7e705f3"
      },
      "outputs": [
        {
          "data": {
            "text/html": [
              "\n",
              "  <div id=\"df-4b9a0ff8-41aa-48c3-a21e-6cc3128536af\">\n",
              "    <div class=\"colab-df-container\">\n",
              "      <div>\n",
              "<style scoped>\n",
              "    .dataframe tbody tr th:only-of-type {\n",
              "        vertical-align: middle;\n",
              "    }\n",
              "\n",
              "    .dataframe tbody tr th {\n",
              "        vertical-align: top;\n",
              "    }\n",
              "\n",
              "    .dataframe thead th {\n",
              "        text-align: right;\n",
              "    }\n",
              "</style>\n",
              "<table border=\"1\" class=\"dataframe\">\n",
              "  <thead>\n",
              "    <tr style=\"text-align: right;\">\n",
              "      <th></th>\n",
              "      <th>pointColName</th>\n",
              "      <th>pointName</th>\n",
              "    </tr>\n",
              "  </thead>\n",
              "  <tbody>\n",
              "    <tr>\n",
              "      <th>0</th>\n",
              "      <td>AUTOMAN_SERR_CMD_00</td>\n",
              "      <td>Automatico Manuale Serrande Comando</td>\n",
              "    </tr>\n",
              "    <tr>\n",
              "      <th>1</th>\n",
              "      <td>AUTOMAN_VLV_CMD_00</td>\n",
              "      <td>Automatico Manuale Valvole Comando</td>\n",
              "    </tr>\n",
              "    <tr>\n",
              "      <th>2</th>\n",
              "      <td>AUTOMAN_M_CMD_00</td>\n",
              "      <td>Automatico Manuale Mandata Comando</td>\n",
              "    </tr>\n",
              "    <tr>\n",
              "      <th>3</th>\n",
              "      <td>AUTOMAN_R_CMD_00</td>\n",
              "      <td>Automatico Manuale Ripresa Comando</td>\n",
              "    </tr>\n",
              "    <tr>\n",
              "      <th>4</th>\n",
              "      <td>LOCREM_CMD_00</td>\n",
              "      <td>Selettore Locale Remoto Comando</td>\n",
              "    </tr>\n",
              "    <tr>\n",
              "      <th>...</th>\n",
              "      <td>...</td>\n",
              "      <td>...</td>\n",
              "    </tr>\n",
              "    <tr>\n",
              "      <th>71</th>\n",
              "      <td>VOLT_R_00</td>\n",
              "      <td>Tensione Ripresa</td>\n",
              "    </tr>\n",
              "    <tr>\n",
              "      <th>72</th>\n",
              "      <td>T_M_SP_00</td>\n",
              "      <td>Temperatura Aria Mandata Setpoint</td>\n",
              "    </tr>\n",
              "    <tr>\n",
              "      <th>73</th>\n",
              "      <td>T_R_SP_00</td>\n",
              "      <td>Temperatura Aria Ritorno Setpoint</td>\n",
              "    </tr>\n",
              "    <tr>\n",
              "      <th>74</th>\n",
              "      <td>T_AMB_04</td>\n",
              "      <td>Temperatura Aria Ambiente Media</td>\n",
              "    </tr>\n",
              "    <tr>\n",
              "      <th>75</th>\n",
              "      <td>AUTOMAN_ST_00</td>\n",
              "      <td>Automatico Manuale Stato</td>\n",
              "    </tr>\n",
              "  </tbody>\n",
              "</table>\n",
              "<p>76 rows × 2 columns</p>\n",
              "</div>\n",
              "      <button class=\"colab-df-convert\" onclick=\"convertToInteractive('df-4b9a0ff8-41aa-48c3-a21e-6cc3128536af')\"\n",
              "              title=\"Convert this dataframe to an interactive table.\"\n",
              "              style=\"display:none;\">\n",
              "        \n",
              "  <svg xmlns=\"http://www.w3.org/2000/svg\" height=\"24px\"viewBox=\"0 0 24 24\"\n",
              "       width=\"24px\">\n",
              "    <path d=\"M0 0h24v24H0V0z\" fill=\"none\"/>\n",
              "    <path d=\"M18.56 5.44l.94 2.06.94-2.06 2.06-.94-2.06-.94-.94-2.06-.94 2.06-2.06.94zm-11 1L8.5 8.5l.94-2.06 2.06-.94-2.06-.94L8.5 2.5l-.94 2.06-2.06.94zm10 10l.94 2.06.94-2.06 2.06-.94-2.06-.94-.94-2.06-.94 2.06-2.06.94z\"/><path d=\"M17.41 7.96l-1.37-1.37c-.4-.4-.92-.59-1.43-.59-.52 0-1.04.2-1.43.59L10.3 9.45l-7.72 7.72c-.78.78-.78 2.05 0 2.83L4 21.41c.39.39.9.59 1.41.59.51 0 1.02-.2 1.41-.59l7.78-7.78 2.81-2.81c.8-.78.8-2.07 0-2.86zM5.41 20L4 18.59l7.72-7.72 1.47 1.35L5.41 20z\"/>\n",
              "  </svg>\n",
              "      </button>\n",
              "      \n",
              "  <style>\n",
              "    .colab-df-container {\n",
              "      display:flex;\n",
              "      flex-wrap:wrap;\n",
              "      gap: 12px;\n",
              "    }\n",
              "\n",
              "    .colab-df-convert {\n",
              "      background-color: #E8F0FE;\n",
              "      border: none;\n",
              "      border-radius: 50%;\n",
              "      cursor: pointer;\n",
              "      display: none;\n",
              "      fill: #1967D2;\n",
              "      height: 32px;\n",
              "      padding: 0 0 0 0;\n",
              "      width: 32px;\n",
              "    }\n",
              "\n",
              "    .colab-df-convert:hover {\n",
              "      background-color: #E2EBFA;\n",
              "      box-shadow: 0px 1px 2px rgba(60, 64, 67, 0.3), 0px 1px 3px 1px rgba(60, 64, 67, 0.15);\n",
              "      fill: #174EA6;\n",
              "    }\n",
              "\n",
              "    [theme=dark] .colab-df-convert {\n",
              "      background-color: #3B4455;\n",
              "      fill: #D2E3FC;\n",
              "    }\n",
              "\n",
              "    [theme=dark] .colab-df-convert:hover {\n",
              "      background-color: #434B5C;\n",
              "      box-shadow: 0px 1px 3px 1px rgba(0, 0, 0, 0.15);\n",
              "      filter: drop-shadow(0px 1px 2px rgba(0, 0, 0, 0.3));\n",
              "      fill: #FFFFFF;\n",
              "    }\n",
              "  </style>\n",
              "\n",
              "      <script>\n",
              "        const buttonEl =\n",
              "          document.querySelector('#df-4b9a0ff8-41aa-48c3-a21e-6cc3128536af button.colab-df-convert');\n",
              "        buttonEl.style.display =\n",
              "          google.colab.kernel.accessAllowed ? 'block' : 'none';\n",
              "\n",
              "        async function convertToInteractive(key) {\n",
              "          const element = document.querySelector('#df-4b9a0ff8-41aa-48c3-a21e-6cc3128536af');\n",
              "          const dataTable =\n",
              "            await google.colab.kernel.invokeFunction('convertToInteractive',\n",
              "                                                     [key], {});\n",
              "          if (!dataTable) return;\n",
              "\n",
              "          const docLinkHtml = 'Like what you see? Visit the ' +\n",
              "            '<a target=\"_blank\" href=https://colab.research.google.com/notebooks/data_table.ipynb>data table notebook</a>'\n",
              "            + ' to learn more about interactive tables.';\n",
              "          element.innerHTML = '';\n",
              "          dataTable['output_type'] = 'display_data';\n",
              "          await google.colab.output.renderOutput(dataTable, element);\n",
              "          const docLink = document.createElement('div');\n",
              "          docLink.innerHTML = docLinkHtml;\n",
              "          element.appendChild(docLink);\n",
              "        }\n",
              "      </script>\n",
              "    </div>\n",
              "  </div>\n",
              "  "
            ],
            "text/plain": [
              "           pointColName                            pointName\n",
              "0   AUTOMAN_SERR_CMD_00  Automatico Manuale Serrande Comando\n",
              "1    AUTOMAN_VLV_CMD_00   Automatico Manuale Valvole Comando\n",
              "2      AUTOMAN_M_CMD_00   Automatico Manuale Mandata Comando\n",
              "3      AUTOMAN_R_CMD_00   Automatico Manuale Ripresa Comando\n",
              "4         LOCREM_CMD_00      Selettore Locale Remoto Comando\n",
              "..                  ...                                  ...\n",
              "71            VOLT_R_00                     Tensione Ripresa\n",
              "72            T_M_SP_00    Temperatura Aria Mandata Setpoint\n",
              "73            T_R_SP_00    Temperatura Aria Ritorno Setpoint\n",
              "74             T_AMB_04      Temperatura Aria Ambiente Media\n",
              "75        AUTOMAN_ST_00             Automatico Manuale Stato\n",
              "\n",
              "[76 rows x 2 columns]"
            ]
          },
          "execution_count": 3,
          "metadata": {},
          "output_type": "execute_result"
        }
      ],
      "source": [
        "df_def"
      ]
    },
    {
      "attachments": {},
      "cell_type": "markdown",
      "metadata": {
        "id": "--MfPrSYzAjF"
      },
      "source": [
        "# Batch Analisys & Preparation"
      ]
    },
    {
      "cell_type": "code",
      "execution_count": null,
      "metadata": {
        "colab": {
          "base_uri": "https://localhost:8080/"
        },
        "id": "cTFTC-YqzAjG",
        "outputId": "1bca4285-12cf-49db-e7a9-3c8030341fcc"
      },
      "outputs": [
        {
          "data": {
            "text/plain": [
              "<Axes: title={'center': 'F_M_FDBK_00'}>"
            ]
          },
          "execution_count": 7,
          "metadata": {},
          "output_type": "execute_result"
        },
        {
          "data": {
            "image/png": "[encoded data removed]",
            "text/plain": [
              "<Figure size 640x480 with 1 Axes>"
            ]
          },
          "metadata": {},
          "output_type": "display_data"
        }
      ],
      "source": [
        "df['F_M_FDBK_00'].plot(title='F_M_FDBK_00')"
      ]
    },
    {
      "cell_type": "code",
      "execution_count": null,
      "metadata": {
        "colab": {
          "base_uri": "https://localhost:8080/"
        },
        "id": "BT0ChErPzAjG",
        "outputId": "b78d9840-f5b2-4891-e75e-a15a8635d995"
      },
      "outputs": [
        {
          "data": {
            "text/plain": [
              "<Axes: title={'center': 'VLV_RAF_REG_00'}>"
            ]
          },
          "execution_count": 8,
          "metadata": {},
          "output_type": "execute_result"
        },
        {
          "data": {
            "image/png": "[encoded data removed]",
            "text/plain": [
              "<Figure size 640x480 with 1 Axes>"
            ]
          },
          "metadata": {},
          "output_type": "display_data"
        }
      ],
      "source": [
        "df['VLV_RAF_REG_00'].plot(title='VLV_RAF_REG_00')"
      ]
    },
    {
      "cell_type": "code",
      "execution_count": null,
      "metadata": {
        "colab": {
          "base_uri": "https://localhost:8080/"
        },
        "id": "LJfDQF2zzAjG",
        "outputId": "c3fe90cf-a4e6-4081-c65e-9cab6a1d2730"
      },
      "outputs": [
        {
          "data": {
            "text/plain": [
              "<Axes: title={'center': 'VLV_SUR_REG_00'}>"
            ]
          },
          "execution_count": 9,
          "metadata": {},
          "output_type": "execute_result"
        },
        {
          "data": {
            "image/png": "[encoded data removed]",
            "text/plain": [
              "<Figure size 640x480 with 1 Axes>"
            ]
          },
          "metadata": {},
          "output_type": "display_data"
        }
      ],
      "source": [
        "df['VLV_SUR_REG_00'].plot(title='VLV_SUR_REG_00')"
      ]
    },
    {
      "cell_type": "code",
      "execution_count": null,
      "metadata": {
        "colab": {
          "base_uri": "https://localhost:8080/"
        },
        "id": "oUS4n8klzAjH",
        "outputId": "c5254136-8cf6-4c8a-bb55-3dce1c773873"
      },
      "outputs": [
        {
          "data": {
            "text/plain": [
              "<Axes: title={'center': 'pw_scaled'}>"
            ]
          },
          "execution_count": 10,
          "metadata": {},
          "output_type": "execute_result"
        },
        {
          "data": {
            "image/png": "[encoded data removed]",
            "text/plain": [
              "<Figure size 640x480 with 1 Axes>"
            ]
          },
          "metadata": {},
          "output_type": "display_data"
        },
        {
          "data": {
            "image/png": "[encoded data removed]",
            "text/plain": [
              "<Figure size 640x480 with 1 Axes>"
            ]
          },
          "metadata": {},
          "output_type": "display_data"
        },
        {
          "data": {
            "image/png": "[encoded data removed]",
            "text/plain": [
              "<Figure size 640x480 with 1 Axes>"
            ]
          },
          "metadata": {},
          "output_type": "display_data"
        }
      ],
      "source": [
        "\n",
        "df_f_m_scaled = pd.DataFrame(a_f_m_scaled, columns=[\"f_m_scaled\"])\n",
        "df['VLV_RAF_REG_00'].plot(title='VLV_RAF_REG_00')\n",
        "df['VLV_SUR_REG_00'].plot(title='VLV_SUR_REG_00')\n",
        "df_f_m_scaled.plot(title='f_m_scaled')\n",
        "df_pw_scaled = pd.DataFrame(r_pw_m_scaled, columns=[\"pw_m_scaled\"])\n",
        "df_pw_scaled.plot(title='pw_scaled')"
      ]
    },
    {
      "cell_type": "code",
      "execution_count": null,
      "metadata": {
        "colab": {
          "base_uri": "https://localhost:8080/"
        },
        "id": "0xtidRDXzAjI",
        "outputId": "118fe5d2-9bf4-4399-a1e7-19f05a36cf92"
      },
      "outputs": [
        {
          "data": {
            "image/png": "[encoded data removed]",
            "text/plain": [
              "<Figure size 1000x600 with 1 Axes>"
            ]
          },
          "metadata": {},
          "output_type": "display_data"
        }
      ],
      "source": [
        "import matplotlib.pyplot as plt\n",
        "\n",
        "fig, ax = plt.subplots(figsize=(10, 6))\n",
        "\n",
        "df['VLV_RAF_REG_00'].plot(ax=ax, color='blue', label='VLV_RAF_REG_00', alpha=1)\n",
        "df['VLV_SUR_REG_00'].plot(ax=ax, color='red', label='VLV_SUR_REG_00', alpha=0.8)\n",
        "df_f_m_scaled.plot(ax=ax, color='green', label='f_m_scaled', alpha=1)\n",
        "df_pw_scaled.plot(ax=ax, color='orange', label='pw_att_scaled', alpha=0.8)\n",
        "\n",
        "ax.legend()\n",
        "ax.set_title('Grafico a linee')\n",
        "ax.set_xlabel('Asse X')\n",
        "ax.set_ylabel('Asse Y')\n",
        "\n",
        "plt.show()"
      ]
    },
    {
      "attachments": {},
      "cell_type": "markdown",
      "metadata": {
        "id": "yiZ8e99gzAjI"
      },
      "source": [
        "# Learning"
      ]
    },
    {
      "attachments": {},
      "cell_type": "markdown",
      "metadata": {
        "id": "72TSMOHizAjN"
      },
      "source": [
        "## Multiple choice NN"
      ]
    },
    {
      "attachments": {},
      "cell_type": "markdown",
      "metadata": {},
      "source": [
        "### Funzioni di supporto"
      ]
    },
    {
      "cell_type": "code",
      "execution_count": 4,
      "metadata": {
        "id": "feiNDTPRzAjN"
      },
      "outputs": [],
      "source": [
        "def tansig(x):\n",
        "    return 2 * tf.keras.activations.sigmoid(2 * x) - 1\n",
        "\n",
        "tansig_activation = Activation(tansig)\n",
        "\n",
        "# Definisco funzione obiettivo per la massimizzazione della predizione \n",
        "def objective(x, s_prime, rete_neurale, n_components):\n",
        "    pca_s_prime = pca_df.loc[s_prime,:]\n",
        "    nn_input_prime = np.concatenate((pca_s_prime.values.reshape(n_components,1), x[0].reshape(1,1), x[1].reshape(1,1)), axis=0)\n",
        "    nn_input_prime = np.reshape(nn_input_prime, (1,input_dim))\n",
        "    funct = rete_neurale.predict(nn_input_prime, verbose=0)[0][0]\n",
        "    return -funct\n",
        "\n",
        "def are_weights_equal(w0, w1, tolerance=1e-4):\n",
        "    # Verifica se le due liste hanno la stessa lunghezza\n",
        "    if len(w0) != len(w1):\n",
        "        return False\n",
        "    \n",
        "    # Verifica se gli elementi delle due liste sono uguali\n",
        "    for i in range(len(w0)):\n",
        "        if isinstance(w0[i], list) and isinstance(w1[i], list):\n",
        "            # Se l'elemento corrente è una lista, richiama la funzione in modo ricorsivo\n",
        "            if not are_weights_equal(w0[i], w1[i], tolerance):\n",
        "                return False\n",
        "        else:\n",
        "            # Altrimenti, verifica se gli array NumPy sono uguali con tolleranza\n",
        "            if isinstance(w0[i], np.ndarray) and isinstance(w1[i], np.ndarray):\n",
        "                if not np.allclose(w0[i], w1[i], atol=tolerance):\n",
        "                    return False\n",
        "    \n",
        "    # Se tutte le verifiche precedenti sono state superate, le due liste sono uguali\n",
        "    return True\n",
        "\n",
        "\n",
        "action_vector_dimension = 2\n",
        "\n",
        "# Architettura rete neurale\n",
        "input_dim = n_components + action_vector_dimension\n",
        "output_dim = 1\n"
      ]
    },
    {
      "attachments": {},
      "cell_type": "markdown",
      "metadata": {},
      "source": [
        "### Reti Neurali (vecchie)"
      ]
    },
    {
      "cell_type": "code",
      "execution_count": 5,
      "metadata": {
        "id": "p3d6Cw6CzAjO"
      },
      "outputs": [],
      "source": [
        "\n",
        "# Definizione rete neurale 0\n",
        "inner_dim_1 = 10\n",
        "rete_neurale = Sequential()\n",
        "rete_neurale.add(Dense(inner_dim_1, input_dim=input_dim, activation=tansig_activation))\n",
        "rete_neurale.add(Dense(output_dim, input_dim=inner_dim_1, activation=tansig_activation))\n",
        "\n",
        "# Definizione rete neurale 1\n",
        "inner_dim_1 = 12\n",
        "rete_neurale_1 = Sequential()\n",
        "rete_neurale_1.add(Dense(inner_dim_1, input_dim=input_dim, activation=tansig_activation))\n",
        "rete_neurale_1.add(Dense(output_dim, input_dim=inner_dim_1, activation=tansig_activation))\n",
        "\n",
        "# Definizione rete neurale 2\n",
        "inner_dim_1 = 10\n",
        "inner_dim_2 = 10\n",
        "rete_neurale_2 = Sequential()\n",
        "rete_neurale_2.add(Dense(inner_dim_1, input_dim=input_dim, activation=tansig_activation))\n",
        "rete_neurale_2.add(Dense(inner_dim_2, input_dim=inner_dim_1, activation=tansig_activation))\n",
        "rete_neurale_2.add(Dense(output_dim, input_dim=inner_dim_2, activation=tansig_activation))\n",
        "\n",
        "# Definizione rete neurale 3\n",
        "inner_dim_1 = 25\n",
        "rete_neurale_3 = Sequential()\n",
        "rete_neurale_3.add(Dense(inner_dim_1, input_dim=input_dim, activation=tansig_activation))\n",
        "rete_neurale_3.add(Dense(output_dim, input_dim=inner_dim_1, activation=tansig_activation))\n",
        "\n",
        "# Definizione rete neurale 4\n",
        "inner_dim = 18\n",
        "rete_neurale_4 = Sequential()\n",
        "rete_neurale_4.add(Dense(inner_dim_1, input_dim=input_dim, activation=tansig_activation))\n",
        "rete_neurale_4.add(Dense(output_dim, input_dim=inner_dim, activation=tansig_activation))\n",
        "\n",
        "\n",
        "\n",
        "adam = Adam(learning_rate=0.001)\n",
        "adam1 = Adam(learning_rate=0.001)\n",
        "adam1.build(rete_neurale.trainable_weights)\n",
        "rete_neurale.compile(loss='mse', optimizer=adam1, metrics=['mae'])\n",
        "rete_neurale_1.compile(loss='mse', optimizer=adam, metrics=['mae'])\n",
        "rete_neurale_2.compile(loss='mse', optimizer=adam, metrics=['mae'])\n",
        "rete_neurale_3.compile(loss='mse', optimizer=adam, metrics=['mae'])\n",
        "rete_neurale_4.compile(loss='mse', optimizer=adam, metrics=['mae'])\n",
        "\n",
        "NN = [rete_neurale_1, rete_neurale, rete_neurale_1, rete_neurale_3, rete_neurale_4]\n",
        "names = ['rete_neurale_1', 'rete_neurale', 'rete_neurale_1', 'rete_neurale_3', 'rete_neurale_4']\n",
        "\n",
        "\n"
      ]
    },
    {
      "attachments": {},
      "cell_type": "markdown",
      "metadata": {},
      "source": [
        "### Reti Neurali (nuove)"
      ]
    },
    {
      "cell_type": "code",
      "execution_count": null,
      "metadata": {},
      "outputs": [],
      "source": [
        "# Definizione Rete Neurale 0 Nuova\n",
        "inner_dim_1 = 10\n",
        "net_0 = Sequential()\n",
        "net_0.add(Dense(inner_dim_1, input_dim=input_dim, activation=tansig_activation))\n",
        "net_0.add(Dense(output_dim, input_dim=inner_dim_1, activation=tansig_activation))\n",
        "\n",
        "# Definizione Rete Neurale 1 Nuova\n",
        "inner_dim_1 = 12\n",
        "net_1 = Sequential()\n",
        "net_1.add(Dense(inner_dim_1, input_dim=input_dim, activation=tansig_activation))\n",
        "net_1.add(Dense(output_dim, input_dim=inner_dim_1, activation=tansig_activation))\n",
        "\n",
        "# Definizione Rete Neurale 2 Nuova\n",
        "inner_dim_1 = 10\n",
        "inner_dim_2 = 10\n",
        "net_2 = Sequential()\n",
        "net_2.add(Dense(inner_dim_1, input_dim=input_dim, activation=tansig_activation))\n",
        "net_2.add(Dense(inner_dim_2, input_dim=inner_dim_1, activation=tansig_activation))\n",
        "net_2.add(Dense(output_dim, input_dim=inner_dim_2, activation=tansig_activation))\n",
        "\n",
        "# Definizione Rete Neurale 3 Nuova\n",
        "inner_dim_1 = 25\n",
        "net_3 = Sequential()\n",
        "net_3.add(Dense(inner_dim_1, input_dim=input_dim, activation=tansig_activation))\n",
        "net_3.add(Dense(output_dim, input_dim=inner_dim_1, activation=tansig_activation))\n",
        "\n",
        "adam = Adam(learning_rate=0.001)\n",
        "adam1 = Adam(learning_rate=0.001)\n",
        "adam1.build(net_0.trainable_weights)\n",
        "net_0.compile(loss='mse', optimizer=adam1, metrics=['mae'])\n",
        "net_1.compile(loss='mse', optimizer=adam, metrics=['mae'])\n",
        "net_2.compile(loss='mse', optimizer=adam, metrics=['mae'])\n",
        "net_3.compile(loss='mse', optimizer=adam, metrics=['mae'])\n",
        "\n",
        "NN_new = [net_1, net_0, net_1, net_3, net_2]\n",
        "names_new = ['net_1', 'net_0', 'net_1', 'net_3', 'net_2']\n",
        "\n"
      ]
    },
    {
      "cell_type": "code",
      "execution_count": 6,
      "metadata": {
        "colab": {
          "base_uri": "https://localhost:8080/",
          "height": 445
        },
        "id": "b3H3eFyzX-AZ",
        "outputId": "c21fc779-bea4-4d4b-fb00-577ecbd8bf1c"
      },
      "outputs": [
        {
          "data": {
            "image/png": "[encoded data removed]",
            "text/plain": [
              "<Figure size 640x480 with 1 Axes>"
            ]
          },
          "metadata": {},
          "output_type": "display_data"
        }
      ],
      "source": [
        "batch_size = 40\n",
        "pivot = [80000, 250000, 500000, 600000, 700000, 1050000, 1200000, 1400000, 1500000, 1800000, 1980000, 2100000]\n",
        "batches = []\n",
        "\n",
        "\n",
        "for i in range(len(pivot)):\n",
        "  batch_size = batch_size + random.randint(-10, 10)\n",
        "  for j in range(batch_size):\n",
        "    \n",
        "    batches.append(pivot[i]+j)\n",
        "plt.plot(batches)\n",
        "plt.show()\n",
        "\n"
      ]
    },
    {
      "cell_type": "code",
      "execution_count": null,
      "metadata": {
        "colab": {
          "base_uri": "https://localhost:8080/",
          "height": 1000
        },
        "id": "Fe-oZYurzAjO",
        "outputId": "d47dee94-a635-4775-ca48-1ca757cb5826"
      },
      "outputs": [],
      "source": [
        "[S, feat] = df.shape\n",
        "#current_state = 500002\n",
        "#s = current_state\n",
        "#current_episode = 0\n",
        "#total_episodes = 1000000\n",
        "\n",
        "bounds = [(min_f, max_f), (0,1)]\n",
        "\n",
        "alpha = 0.01\n",
        "gamma = 1\n",
        "\n",
        "my_batches = batches\n",
        "\n",
        "\n",
        "for nn in NN_new:\n",
        "\n",
        "    print(\"NN: \", names[NN_new.index(nn)])\n",
        "    try:\n",
        "        nn.load_weights('/content/gdrive/MyDrive/Tesi_GDrive/weights_new/net_' + NN_new.index(nn) + '.h5')\n",
        "        print(\"try\")\n",
        "    except:\n",
        "        print(\"except\")\n",
        "        pass\n",
        "\n",
        "    w0 = nn.get_weights()\n",
        "    convergence = False\n",
        "\n",
        "    while convergence == False:\n",
        "    \n",
        "        #for current_episode in range(total_episodes):\n",
        "        for i in range(len(my_batches)):\n",
        "\n",
        "            s = my_batches[i]\n",
        "            s_prime = s+1\n",
        "            if s_prime > S-1:\n",
        "                print(\"s =\", s)\n",
        "                break\n",
        "            # a1 = frequenza sul motore di mandata\n",
        "            #a1 = df.loc[s,'F_M_FDBK_00']\n",
        "            a1 = a_f_m_scaled[s][0]\n",
        "            \n",
        "\n",
        "            # a2 = percentuale di apertura delle valvole caldo/freddo (esclusive)\n",
        "            a_raf = df.loc[s,'VLV_RAF_REG_00']\n",
        "            a_sur = df.loc[s,'VLV_SUR_REG_00']\n",
        "            if a_raf == 0:\n",
        "                if a_sur == 0:\n",
        "                    a2 = 0\n",
        "                else:\n",
        "                    a2 = a_sur_df[s]\n",
        "            else:\n",
        "                a2 = a_raf_df[s]\n",
        "\n",
        "            # r = reward \n",
        "            r = -df.loc[s,'PW_ATT_M_00']\n",
        "           \n",
        "            x0 = np.array([a1, a2])\n",
        "            # Minimizzazione della -NN per predizione di q' per ottenere a' (a1', a2')\n",
        "            print(\"minimizing...\")\n",
        "            #x0 = a.reshape(2,)\n",
        "            print(\"x0: \", x0)\n",
        "            start_time = time.time()\n",
        "            objective_minimized = differential_evolution(objective, bounds=bounds, args=(s_prime,nn,n_components,), x0=x0, maxiter=300, tol=0.01, polish=True)\n",
        "            end_time = time.time()\n",
        "            print(\"time elapsed: \", end_time - start_time, \"seconds\")\n",
        "            \n",
        "            # Compongo input della predizione di q'\n",
        "            a1_prime_input = np.array([objective_minimized.x[0]]).reshape(1,1)\n",
        "            a2_prime_input = objective_minimized.x[1].reshape(1,1)\n",
        "            s_prime_input = pca_df.loc[s_prime,:].values.reshape(n_components,1)\n",
        "            conc1 = np.concatenate((s_prime_input, a1_prime_input), axis=0)\n",
        "            a2_prime_input = np.expand_dims(a2_prime_input, axis=1).reshape(1,1)\n",
        "            conc2 = np.concatenate((conc1, a2_prime_input), axis=0)\n",
        "            nn_input_prime = np.reshape(conc2, (1,input_dim))\n",
        "            # Compongo input della predizione di q\n",
        "            a1_input = np.array([a1]).reshape(1,1)\n",
        "            a2_input = np.array([a2]).reshape(1,1)\n",
        "            s_input = pca_df.loc[s,:].values.reshape(n_components,1)\n",
        "            conc1 = np.concatenate((s_input, a1_input), axis=0)\n",
        "            a2_input = np.expand_dims(a2_input, axis=1).reshape(1,1)\n",
        "            conc2 = np.concatenate((conc1, a2_input), axis=0)\n",
        "            nn_input = np.reshape(conc2, (1,input_dim))\n",
        "\n",
        "            # Predizione di q'\n",
        "            q_prime = nn.predict(nn_input_prime, verbose = 0)[0]\n",
        "            q_prime = q_prime[0]\n",
        "\n",
        "            # Predizione di q\n",
        "            q_ = nn.predict(nn_input, verbose = 0)[0] \n",
        "            q_ = q_[0]\n",
        "\n",
        "            # q = avr + gamma*max(q')\n",
        "            q = q_ + alpha*(r + gamma*q_prime - q_)\n",
        "            \n",
        "            # Calcola il valore target per il training della rete neurale\n",
        "            target = q\n",
        "            target = np.array([target])\n",
        "\n",
        "            # Aggiornamento della rete neurale\n",
        "            nn.fit(nn_input, target, epochs=1, verbose=0)\n",
        "            w1 = nn.get_weights()\n",
        "\n",
        "            # Aggiornamento  dello stato corrente\n",
        "            #s = s_prime\n",
        "\n",
        "            # Plot statistiche ogni n episodi    \n",
        "            n_print = 5\n",
        "            if s%n_print == 0:\n",
        "                print(\"\\n\")\n",
        "                print(\"current_episode = \", s)\n",
        "                #print(\"Episodio \",s,\"/\",total_episodes)\n",
        "                print(\"q: \", q)\n",
        "                print(\"F_M_FDBK_00: \", df.loc[s,'F_M_FDBK_00'])\n",
        "                print(\"VLV_RAF_REG_00: \", df.loc[s,'VLV_RAF_REG_00'])\n",
        "                print(\"VLV_SUR_REG_00: \", df.loc[s,'VLV_SUR_REG_00'])\n",
        "                print(\"PW_ATT_M_00: \", df.loc[s,'PW_ATT_M_00'])\n",
        "                print(\"\\n\")\n",
        "                if IN_COLAB == True:\n",
        "                  nn.save_weights('/content/gdrive/MyDrive/Tesi_GDrive/weights_new/'+names[NN_new.index(nn)]+'.h5')\n",
        "                else:\n",
        "                  string = ['/weights/DQN_',names[NN.index(nn)],'_tansig_'+str(n_components)+'input.h5']\n",
        "                  string = ''.join(string)\n",
        "                  nn.save_weights(string)\n",
        "\n",
        "            # Convergenza\n",
        "            if are_weights_equal(w0, w1) == True:\n",
        "                #print(\"####### w0 \\n\", w0)\n",
        "                #print(\"####### w1 \\n\", w1)\n",
        "                convergence = True\n",
        "                print(\"Convergenza raggiunta\\n\")\n",
        "                if IN_COLAB == True:\n",
        "                  nn.save_weights('/content/gdrive/MyDrive/Tesi_GDrive/weights/DEF'+names[NN_new.index(nn)]+'.h5')\n",
        "                else:  \n",
        "                  string = ['/weights/DEF_DQN_',names[NN.index(nn)],'_tansig_'+str(n_components)+'input.h5']\n",
        "                  string = ''.join(string)\n",
        "                  nn.save_weights(string)\n",
        "                break"
      ]
    },
    {
      "attachments": {},
      "cell_type": "markdown",
      "metadata": {},
      "source": [
        "## Policy Extraction"
      ]
    },
    {
      "cell_type": "code",
      "execution_count": null,
      "metadata": {},
      "outputs": [],
      "source": [
        "batch_size = 20\n",
        "pivot = [80000, 250000, 500000, 600000, 700000, 1050000, 1200000, 1400000, 1500000, 1800000, 1980000, 2100000]\n",
        "batches = []\n",
        "\n",
        "\n",
        "for i in range(len(pivot)):\n",
        "  batch_size = batch_size + random.randint(-10, 10)\n",
        "  for j in range(batch_size):\n",
        "    \n",
        "    batches.append(pivot[i]+j)\n",
        "plt.plot(batches)\n",
        "plt.show()"
      ]
    },
    {
      "cell_type": "code",
      "execution_count": null,
      "metadata": {},
      "outputs": [],
      "source": [
        "NN_trained = [rete_neurale_1, rete_neurale, rete_neurale_2]\n",
        "\n",
        "[S, feat] = df.shape\n",
        "\n",
        "bounds = [(min_f, max_f), (0,1)]\n",
        "\n",
        "alpha = 0.01\n",
        "gamma = 1\n",
        "\n",
        "my_batches = batches\n",
        "\n",
        "names_trained = ['rete_neurale_1', 'rete_neurale', 'rete_neurale_2']\n",
        "\n",
        "df_optim_list = []\n",
        "\n",
        "my_batches = batches\n",
        "\n",
        "for nn in NN_trained:\n",
        "\n",
        "    try:\n",
        "        nn.load_weights('/content/gdrive/MyDrive/Tesi_GDrive/weights/DEF'+names_trained[NN_trained.index(nn)]+'.h5')\n",
        "    except:\n",
        "        nn.load_weights('/content/gdrive/MyDrive/Tesi_GDrive/weights/'+names_trained[NN_trained.index(nn)]+'.h5')\n",
        "\n",
        "    print(\"NN: \", names_trained[NN_trained.index(nn)])\n",
        "\n",
        "    rows = []\n",
        "    \n",
        "    for i in range(len(my_batches)):\n",
        "\n",
        "        s = my_batches[i]\n",
        "        s_prime = s+1\n",
        "\n",
        "        if s_prime > S-1:\n",
        "            print(\"s =\", s)\n",
        "            break\n",
        "\n",
        "        a1 = a_f_m_scaled[s][0]\n",
        "\n",
        "        a_raf = df.loc[s, 'VLV_RAF_REG_00']\n",
        "        a_sur = df.loc[s, 'VLV_SUR_REG_00']\n",
        "\n",
        "        if a_raf == 0:\n",
        "          if a_sur == 0:\n",
        "            a2 = 0\n",
        "          else:\n",
        "            a2 = a_sur_df[s]\n",
        "        else:\n",
        "          a1 = a_raf_df[s]\n",
        "\n",
        "        x0 = np.array([a1,a2])\n",
        "\n",
        "        start_time = time.time()\n",
        "\n",
        "        objective_minimized = differential_evolution(objective, bounds=bounds, args=(s_prime,nn,n_components,), x0=x0, maxiter=300, tol=0.01, polish=True)\n",
        "        \n",
        "        end_time = time.time()\n",
        "        print(\"time elapsed: \", end_time - start_time, \"seconds\")\n",
        "\n",
        "        a1 = np.array([objective_minimized.x[0]]).reshape(1,1)\n",
        "        a2 = np.array([objective_minimized.x[1]]).reshape(1,1)\n",
        "        pca_s = pca_df.loc[s,:]\n",
        "        nn_input = np.concatenate((pca_s.values.reshape(n_components,1), a1, a2), axis=0)\n",
        "        nn_input = np.reshape(nn_input, (1,input_dim))\n",
        "        q_star = nn.predict(nn_input, verbose = 0)[0][0]\n",
        "\n",
        "        a1_star = objective_minimized.x[0]\n",
        "        a2_star = objective_minimized.x[1]\n",
        "\n",
        "        rows.append({'s' : s, 'a1*' : a1_star, 'a2*' : a2_star, 'q*' : q_star})\n",
        "\n",
        "        n_print = 5\n",
        "        if s%n_print == 0:\n",
        "          print(\"\\n\")\n",
        "          print(\"s: \", s)\n",
        "          print(\"q*: \", q_star)\n",
        "          print(\"a1*: \", a1_star, \"F_M_FDBK_00: \", df.loc[s,'F_M_FDBK_00'])\n",
        "          print(\"a2*: \", a2_star)\n",
        "          print(\"\\n\")\n",
        "\n",
        "    df_optim = pd.DataFrame(rows)\n",
        "\n",
        "    # Specifica il nome della directory cluster_model\n",
        "    nn_model = names_trained[NN_trained.index(nn)]\n",
        "\n",
        "    # Crea il percorso completo per la directory cluster_model\n",
        "    nn_model_directory = os.path.join(PROJECT_PATH, 'df_policy', nn_model)\n",
        "\n",
        "    # Crea la directory cluster_model se non esiste\n",
        "    if not os.path.exists(nn_model_directory):\n",
        "        os.makedirs(nn_model_directory)\n",
        "        print(\"Directory\", nn_model, \"creata con successo!\")\n",
        "\n",
        "    # Salvataggio del df* nella directory df_policy\n",
        "    nn_file_path = os.path.join(nn_model_directory, 'nn_' + nn_model + '.csv')\n",
        "    np.save(nn_file_path, df_optim)\n",
        "\n",
        "    df_optim_list.append(df_optim)\n",
        "\n",
        "\n",
        "\n",
        "\n",
        "\n",
        "        \n"
      ]
    },
    {
      "attachments": {},
      "cell_type": "markdown",
      "metadata": {
        "id": "BDirKlPe4BR0"
      },
      "source": [
        "## Prova"
      ]
    },
    {
      "cell_type": "code",
      "execution_count": null,
      "metadata": {
        "id": "GjgPUQk7zAjI"
      },
      "outputs": [],
      "source": [
        "n = load_data('_.pkl')\n",
        "if IN_COLAB == True:\n",
        "    n = load_data('*.pkl')\n",
        "\n",
        "action_vector_dimension = 2\n",
        "\n",
        "# Architettura rete neurale\n",
        "input_dim = n['n_components'] + action_vector_dimension\n",
        "inner_dim_1 = 32\n",
        "inner_dim_2 = 32\n",
        "output_dim = 1\n",
        "\n",
        "print(\"input dim: \", input_dim)\n",
        "print(\"inner layer1 dim: \", inner_dim_1)\n",
        "print(\"inner layer2 dim: \", inner_dim_2)\n",
        "print(\"output dim: \", output_dim)\n",
        "\n",
        "# Definizione rete neurale\n",
        "rete_neurale = Sequential()\n",
        "rete_neurale.add(Dense(inner_dim_1, input_dim=input_dim, activation='relu'))\n",
        "rete_neurale.add(Dense(inner_dim_2, input_dim=inner_dim_1, activation='relu'))\n",
        "rete_neurale.add(Dense(output_dim, input_dim=inner_dim_2, activation='relu'))\n",
        "\n",
        "adam = Adam(learning_rate=0.001)\n",
        "rete_neurale.compile(loss='mse', optimizer=adam, metrics=['mae'])\n",
        "\n",
        "rete_neurale.load_weights('DEFrete_neurale_DQN_32321_relu.h5')\n",
        "\n",
        "# Definisco funzione obiettivo per la massimizzazione della predizione \n",
        "def objective(x, s_prime):\n",
        "    pca_s_prime = pca_df.loc[s_prime,:]\n",
        "    nn_input_prime = np.concatenate((pca_s_prime.values.reshape(n_components,1), x[0].reshape(1,1), x[1].reshape(1,1)), axis=0)\n",
        "    nn_input_prime = np.reshape(nn_input_prime, (1,input_dim))\n",
        "    funct = rete_neurale.predict(nn_input_prime, verbose=0)[0][0]\n",
        "    return -funct\n",
        "\n",
        "def are_weights_equal(w0, w1):\n",
        "    # Verifica se le due liste hanno la stessa lunghezza\n",
        "    if len(w0) != len(w1):\n",
        "        return False\n",
        "    \n",
        "    # Verifica se gli elementi delle due liste sono uguali\n",
        "    for i in range(len(w0)):\n",
        "        if isinstance(w0[i], list) and isinstance(w1[i], list):\n",
        "            # Se l'elemento corrente è una lista, richiama la funzione in modo ricorsivo\n",
        "            if not are_weights_equal(w0[i], w1[i]):\n",
        "                return False\n",
        "        else:\n",
        "            # Altrimenti, verifica se gli array NumPy sono uguali\n",
        "            if not np.array_equal(w0[i], w1[i]):\n",
        "                return False\n",
        "    \n",
        "    # Se tutte le verifiche precedenti sono state superate, le due liste sono uguali\n",
        "    return True\n",
        "\n"
      ]
    },
    {
      "cell_type": "code",
      "execution_count": null,
      "metadata": {
        "id": "QD1-5VbRzAjJ"
      },
      "outputs": [],
      "source": [
        "[S, feat] = df.shape\n",
        "current_state = 7328\n",
        "s = current_state\n",
        "current_episode = 0\n",
        "total_episodes = 10000\n",
        "\n",
        "bounds = [(min_f, max_f), (0,1)]\n",
        "\n",
        "alpha = 0.5\n",
        "gamma = 1\n",
        "\n",
        "convergence = False\n",
        "w0 = rete_neurale.get_weights()\n",
        "\n",
        "while convergence == False:\n",
        "  \n",
        "  for current_episode in range(total_episodes):\n",
        "\n",
        "      s_prime = s+1\n",
        "      if s_prime > S-1:\n",
        "        print(\"s =\", s)\n",
        "        break\n",
        "      # a1 = frequenza sul motore di mandata\n",
        "      a1 = df.loc[s,'F_M_FDBK_00']\n",
        "\n",
        "      # a2 = percentuale di apertura delle valvole caldo/freddo (esclusive)\n",
        "      a_raf = df.loc[s,'VLV_RAF_REG_00']\n",
        "      a_sur = df.loc[s,'VLV_SUR_REG_00']\n",
        "      if a_raf == 0:\n",
        "        if a_sur == 0:\n",
        "          a2 = 0\n",
        "        else:\n",
        "          a2 = a_sur_df[s]\n",
        "      else:\n",
        "        a2 = a_raf_df[s]\n",
        "        \n",
        "      a = (a1,a2)\n",
        "\n",
        "      # r = reward \n",
        "      r = -df.loc[s,'PW_ATT_M_00']\n",
        "\n",
        "      # Condizioni iniziali random per la minimizzazione\n",
        "      #data_f = a_f_m_scaled\n",
        "      #a0_f = data_f[np.random.randint(len(data_f))]\n",
        "      #a0_v = np.random.rand()\n",
        "      #x0 = [a0_f, a0_v]\n",
        "    \n",
        "      # Dominio della minimizzazione \n",
        "      print(\"minimizing...\")\n",
        "      start_time = time.time()\n",
        "      # Risultato della minimizzazione\n",
        "      objective_minimized = differential_evolution(objective, bounds=bounds, args=(s_prime,))\n",
        "      end_time = time.time()\n",
        "      print(\"time elapsed: \", end_time - start_time, \"seconds\")\n",
        "    \n",
        "      # Compongo input della predizione di q'\n",
        "      a1_prime_input = np.array([objective_minimized.x[0]]).reshape(1,1)\n",
        "      a2_prime_input = objective_minimized.x[1].reshape(1,1)\n",
        "      s_prime_input = pca_df.loc[s_prime,:].values.reshape(n_components,1)\n",
        "      conc1 = np.concatenate((s_prime_input, a1_prime_input), axis=0)\n",
        "      a2_prime_input = np.expand_dims(a2_prime_input, axis=1).reshape(1,1)\n",
        "      conc2 = np.concatenate((conc1, a2_prime_input), axis=0)\n",
        "      nn_input_prime = np.reshape(conc2, (1,input_dim))\n",
        "      # Compongo input della predizione di q\n",
        "      a1_input = np.array([a1]).reshape(1,1)\n",
        "      a2_input = np.array([a2]).reshape(1,1)\n",
        "      s_input = pca_df.loc[s,:].values.reshape(n_components,1)\n",
        "      conc1 = np.concatenate((s_input, a1_input), axis=0)\n",
        "      a2_input = np.expand_dims(a2_input, axis=1).reshape(1,1)\n",
        "      conc2 = np.concatenate((conc1, a2_input), axis=0)\n",
        "      nn_input = np.reshape(conc2, (1,input_dim))\n",
        "\n",
        "      # Predizione di q'\n",
        "      q_prime = rete_neurale.predict(nn_input_prime, verbose = 0)[0]\n",
        "      q_prime = q_prime[0]\n",
        "\n",
        "      # Predizione di q\n",
        "      q_ = rete_neurale.predict(nn_input, verbose = 0)[0] \n",
        "      q_ = q_[0]\n",
        "\n",
        "      # q = avr + gamma*max(q')\n",
        "      q = q_ + alpha*(r + gamma*q_prime - q_)\n",
        "      \n",
        "      #print(\"F_M_FDBK_00: \", df.iloc[s,'F_M_FDBK_00'])\n",
        "      # Calcola il valore target per il training della rete neurale\n",
        "      target = q\n",
        "      target = np.array([target])\n",
        "\n",
        "      # Aggiornamento della rete neurale\n",
        "      rete_neurale.fit(nn_input, target, epochs=1, verbose=0)\n",
        "      w1 = rete_neurale.get_weights()\n",
        "\n",
        "      # Aggiornamento  dello stato corrente\n",
        "      s = s_prime\n",
        "\n",
        "      # Plot statistiche ogni n episodi    \n",
        "      n_print = 5\n",
        "      if current_episode%n_print == 0:\n",
        "        print(\"\\n\")\n",
        "        print(\"current_episode = \", current_episode)\n",
        "        print(\"Episodio \",current_episode,\"/\",total_episodes)\n",
        "        print(\"q: \", q)\n",
        "        print(\"F_M_FDBK_00: \", df.loc[s,'F_M_FDBK_00'])\n",
        "        print(\"VLV_RAF_FDBK_00: \", df.loc[s,'VLV_RAF_REG_00'])\n",
        "        print(\"VLV_SUR_FDBK_00: \", df.loc[s,'VLV_SUR_REG_00'])\n",
        "        print(\"\\n\")\n",
        "        rete_neurale.save_weights('rete_neurale_DQN_32321_relu.h5')\n",
        "\n",
        "      # Convergenza\n",
        "      if are_weights_equal(w0, w1) == True:\n",
        "        convergence = True\n",
        "        print(\"Convergenza raggiunta\")\n",
        "        rete_neurale.save_weights('DEFrete_neurale_DQN_32321_relu.h5')\n",
        "        break\n",
        "\n",
        "\n",
        "\n",
        " \n",
        "\n",
        "\n"
      ]
    },
    {
      "cell_type": "code",
      "execution_count": null,
      "metadata": {
        "id": "2UnxbhDLzAjK"
      },
      "outputs": [],
      "source": [
        "objective_minimized = differential_evolution(objective, bounds=bounds)"
      ]
    },
    {
      "cell_type": "code",
      "execution_count": null,
      "metadata": {
        "id": "om-B-uGkzAjK"
      },
      "outputs": [],
      "source": [
        "objective_minimized.x"
      ]
    },
    {
      "cell_type": "code",
      "execution_count": null,
      "metadata": {
        "id": "I5EndJz5zAjL"
      },
      "outputs": [],
      "source": [
        "print(\"a1: \", objective_minimized.x[0])\n",
        "print(\"a2: \", objective_minimized.x[1])"
      ]
    },
    {
      "cell_type": "code",
      "execution_count": null,
      "metadata": {
        "id": "veSJFHtkzAjL"
      },
      "outputs": [],
      "source": [
        "s_random = [0, 25, 2984, 459000, 657, 372122, 600000]\n",
        "s_random = sorted(s_random)\n",
        "my_list = []\n",
        "\n",
        "for s in s_random:\n",
        "    objective_minimized = differential_evolution(objective, bounds=bounds, args=(s,))\n",
        "    a1 = np.array([objective_minimized.x[0]]).reshape(1,1)\n",
        "    a2 = np.array([objective_minimized.x[1]]).reshape(1,1)\n",
        "    pca_s = pca_df.loc[s,:]\n",
        "    nn_input = np.concatenate((pca_s.values.reshape(7,1), a1, a2), axis=0)\n",
        "    nn_input = np.reshape(nn_input, (1,input_dim))\n",
        "    funct = rete_neurale.predict(nn_input, verbose=0)[0][0]\n",
        "\n",
        "    dict = {'s': s, 'a1': a1, 'a2': a2, 'funct': funct}\n",
        "    my_list.append(dict)\n",
        "    \n",
        "    print(\"s: \", s)\n",
        "    print(\"a1: \", a1)\n",
        "    print(\"a2: \", a2)\n",
        "    print(\"funct: \", funct)\n",
        "    print(\"\\n\")\n"
      ]
    },
    {
      "cell_type": "code",
      "execution_count": null,
      "metadata": {
        "id": "kSQkC4sLzAjL"
      },
      "outputs": [],
      "source": [
        "print(\"a1: \", objective_minimized.x[0])\n",
        "print(\"a2: \", objective_minimized.x[1])"
      ]
    },
    {
      "cell_type": "code",
      "execution_count": null,
      "metadata": {
        "id": "P9gMWpRwzAjM"
      },
      "outputs": [],
      "source": []
    },
    {
      "cell_type": "code",
      "execution_count": null,
      "metadata": {
        "id": "XFz-0i2FzAjM"
      },
      "outputs": [],
      "source": [
        "n = load_data('_.pkl')\n",
        "if IN_COLAB == True:\n",
        "    n = load_data('*.pkl')\n",
        "\n",
        "action_vector_dimension = 2\n",
        "\n",
        "# Architettura rete neurale\n",
        "input_dim = n['n_components'] + action_vector_dimension\n",
        "inner_dim_1 = 64\n",
        "inner_dim_2 = 64\n",
        "output_dim = 1\n",
        "\n",
        "print(\"input dim: \", input_dim)\n",
        "print(\"inner layer1 dim: \", inner_dim_1)\n",
        "print(\"inner layer2 dim: \", inner_dim_2)\n",
        "print(\"output dim: \", output_dim)\n",
        "\n",
        "# Definizione rete neurale\n",
        "rete_neurale_1 = Sequential()\n",
        "rete_neurale_1.add(Dense(inner_dim_1, input_dim=input_dim, activation='relu'))\n",
        "rete_neurale_1.add(Dense(inner_dim_2, input_dim=inner_dim_1, activation='relu'))\n",
        "rete_neurale_1.add(Dense(output_dim, input_dim=inner_dim_2, activation='relu'))\n",
        "\n",
        "adam = Adam(learning_rate=0.001)\n",
        "rete_neurale_1.compile(loss='mse', optimizer=adam, metrics=['mae'])\n",
        "\n",
        "rete_neurale_1.load_weights('rete_neurale_DQN_64641_relu.h5')\n",
        "\n",
        "# Definisco funzione obiettivo per la massimizzazione della predizione \n",
        "def objective(x, s_prime):\n",
        "    pca_s_prime = pca_df.loc[s_prime,:]\n",
        "    nn_input_prime = np.concatenate((pca_s_prime.values.reshape(7,1), x[0].reshape(1,1), x[1].reshape(1,1)), axis=0)\n",
        "    nn_input_prime = np.reshape(nn_input_prime, (1,input_dim))\n",
        "    funct = rete_neurale_1.predict(nn_input_prime, verbose=0)[0][0]\n",
        "    return -funct\n",
        "\n",
        "def are_weights_equal(w0, w1):\n",
        "    # Verifica se le due liste hanno la stessa lunghezza\n",
        "    if len(w0) != len(w1):\n",
        "        return False\n",
        "    \n",
        "    # Verifica se gli elementi delle due liste sono uguali\n",
        "    for i in range(len(w0)):\n",
        "        if isinstance(w0[i], list) and isinstance(w1[i], list):\n",
        "            # Se l'elemento corrente è una lista, richiama la funzione in modo ricorsivo\n",
        "            if not are_weights_equal(w0[i], w1[i]):\n",
        "                return False\n",
        "        else:\n",
        "            # Altrimenti, verifica se gli array NumPy sono uguali\n",
        "            if not np.array_equal(w0[i], w1[i]):\n",
        "                return False\n",
        "    \n",
        "    # Se tutte le verifiche precedenti sono state superate, le due liste sono uguali\n",
        "    return True\n",
        "\n"
      ]
    },
    {
      "cell_type": "code",
      "execution_count": null,
      "metadata": {
        "id": "dIxdDy-FzAjN"
      },
      "outputs": [],
      "source": [
        "[S, feat] = df.shape\n",
        "current_state = 7328\n",
        "s = current_state\n",
        "current_episode = 0\n",
        "total_episodes = 10000\n",
        "\n",
        "bounds = [(min_f, max_f), (0,1)]\n",
        "\n",
        "alpha = 0.5\n",
        "gamma = 1\n",
        "\n",
        "convergence = False\n",
        "w0 = rete_neurale_1.get_weights()\n",
        "\n",
        "while convergence == False:\n",
        "  \n",
        "  for current_episode in range(total_episodes):\n",
        "\n",
        "      s_prime = s+1\n",
        "      if s_prime > S-1:\n",
        "        print(\"s =\", s)\n",
        "        break\n",
        "      # a1 = frequenza sul motore di mandata\n",
        "      a1 = df.loc[s,'F_M_FDBK_00']\n",
        "\n",
        "      # a2 = percentuale di apertura delle valvole caldo/freddo (esclusive)\n",
        "      a_raf = df.loc[s,'VLV_RAF_FDBK_00']\n",
        "      a_sur = df.loc[s,'VLV_SUR_FDBK_00']\n",
        "      if a_raf == 0:\n",
        "        if a_sur == 0:\n",
        "          a2 = 0\n",
        "        else:\n",
        "          a2 = a_sur_df[s]\n",
        "      else:\n",
        "        a2 = a_raf_df[s]\n",
        "        \n",
        "      a = (a1,a2)\n",
        "\n",
        "      # r = reward \n",
        "      r = -df.loc[s,'PW_ATT_M_00']\n",
        "\n",
        "      # Condizioni iniziali random per la minimizzazione\n",
        "      #data_f = a_f_m_scaled\n",
        "      #a0_f = data_f[np.random.randint(len(data_f))]\n",
        "      #a0_v = np.random.rand()\n",
        "      #x0 = [a0_f, a0_v]\n",
        "    \n",
        "      # Dominio della minimizzazione \n",
        "      print(\"minimizing...\")\n",
        "      start_time = time.time()\n",
        "      # Risultato della minimizzazione\n",
        "      objective_minimized = differential_evolution(objective, bounds=bounds, args=(s_prime,))\n",
        "      end_time = time.time()\n",
        "      print(\"time elapsed: \", end_time - start_time, \"seconds\")\n",
        "    \n",
        "      # Compongo input della predizione di q'\n",
        "      a1_prime_input = np.array([objective_minimized.x[0]]).reshape(1,1)\n",
        "      a2_prime_input = objective_minimized.x[1].reshape(1,1)\n",
        "      s_prime_input = pca_df.loc[s_prime,:].values.reshape(7,1)\n",
        "      conc1 = np.concatenate((s_prime_input, a1_prime_input), axis=0)\n",
        "      a2_prime_input = np.expand_dims(a2_prime_input, axis=1).reshape(1,1)\n",
        "      conc2 = np.concatenate((conc1, a2_prime_input), axis=0)\n",
        "      nn_input_prime = np.reshape(conc2, (1,input_dim))\n",
        "      # Compongo input della predizione di q\n",
        "      a1_input = np.array([a1]).reshape(1,1)\n",
        "      a2_input = np.array([a2]).reshape(1,1)\n",
        "      s_input = pca_df.loc[s,:].values.reshape(7,1)\n",
        "      conc1 = np.concatenate((s_input, a1_input), axis=0)\n",
        "      a2_input = np.expand_dims(a2_input, axis=1).reshape(1,1)\n",
        "      conc2 = np.concatenate((conc1, a2_input), axis=0)\n",
        "      nn_input = np.reshape(conc2, (1,input_dim))\n",
        "\n",
        "      # Predizione di q'\n",
        "      q_prime = rete_neurale_1.predict(nn_input_prime, verbose = 0)[0]\n",
        "      q_prime = q_prime[0]\n",
        "\n",
        "      # Predizione di q\n",
        "      q_ = rete_neurale_1.predict(nn_input, verbose = 0)[0] \n",
        "      q_ = q_[0]\n",
        "\n",
        "      # q = avr + gamma*max(q')\n",
        "      q = q_ + alpha*(r + gamma*q_prime - q_)\n",
        "      \n",
        "      #print(\"F_M_FDBK_00: \", df.iloc[s,'F_M_FDBK_00'])\n",
        "      # Calcola il valore target per il training della rete neurale\n",
        "      target = q\n",
        "      target = np.array([target])\n",
        "\n",
        "      # Aggiornamento della rete neurale\n",
        "      rete_neurale_1.fit(nn_input, target, epochs=1, verbose=0)\n",
        "      w1 = rete_neurale_1.get_weights()\n",
        "\n",
        "      # Aggiornamento  dello stato corrente\n",
        "      s = s_prime\n",
        "\n",
        "      # Plot statistiche ogni n episodi    \n",
        "      n_print = 5\n",
        "      if current_episode%n_print == 0:\n",
        "        print(\"\\n\")\n",
        "        print(\"current_episode = \", current_episode)\n",
        "        print(\"Episodio \",current_episode,\"/\",total_episodes)\n",
        "        print(\"q: \", q)\n",
        "        print(\"F_M_FDBK_00: \", df.loc[s,'F_M_FDBK_00'])\n",
        "        print(\"VLV_RAF_FDBK_00: \", df.loc[s,'VLV_RAF_FDBK_00'])\n",
        "        print(\"VLV_SUR_FDBK_00: \", df.loc[s,'VLV_SUR_FDBK_00'])\n",
        "        print(\"\\n\")\n",
        "        rete_neurale_1.save_weights('rete_neurale_DQN_64641_relu.h5')\n",
        "\n",
        "      # Convergenza\n",
        "      if are_weights_equal(w0, w1) == True:\n",
        "        convergence = True\n",
        "        print(\"Convergenza raggiunta\")\n",
        "        rete_neurale_1.save_weights('DEFrete_neurale_DQN_64641_relu.h5')\n",
        "        break\n",
        "\n",
        "\n",
        "\n",
        " \n",
        "\n",
        "\n"
      ]
    }
  ],
  "metadata": {
    "accelerator": "GPU",
    "colab": {
      "collapsed_sections": [
        "jSjzzy0fzAi2",
        "AycD0CyZzAjC",
        "--MfPrSYzAjF",
        "BDirKlPe4BR0"
      ],
      "include_colab_link": true,
      "machine_shape": "hm",
      "provenance": []
    },
    "gpuClass": "standard",
    "kernelspec": {
      "display_name": "tesi_env",
      "language": "python",
      "name": "python3"
    },
    "language_info": {
      "codemirror_mode": {
        "name": "ipython",
        "version": 3
      },
      "file_extension": ".py",
      "mimetype": "text/x-python",
      "name": "python",
      "nbconvert_exporter": "python",
      "pygments_lexer": "ipython3",
      "version": "3.10.9"
    }
  },
  "nbformat": 4,
  "nbformat_minor": 0
}
