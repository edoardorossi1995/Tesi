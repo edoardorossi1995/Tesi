{
 "cells": [
  {
   "attachments": {},
   "cell_type": "markdown",
   "metadata": {},
   "source": [
    "# Drive & Environment Setup"
   ]
  },
  {
   "cell_type": "code",
   "execution_count": 1,
   "metadata": {},
   "outputs": [
    {
     "name": "stdout",
     "output_type": "stream",
     "text": [
      "/Users/edoardorossi/Documents/Universita/Tesi/Tesi_GDrive\n"
     ]
    },
    {
     "name": "stderr",
     "output_type": "stream",
     "text": [
      "2023-05-27 00:12:07.815701: I tensorflow/core/platform/cpu_feature_guard.cc:193] This TensorFlow binary is optimized with oneAPI Deep Neural Network Library (oneDNN) to use the following CPU instructions in performance-critical operations:  SSE4.1 SSE4.2 AVX\n",
      "To enable them in other operations, rebuild TensorFlow with the appropriate compiler flags.\n"
     ]
    },
    {
     "name": "stdout",
     "output_type": "stream",
     "text": [
      "Libraries imported\n"
     ]
    }
   ],
   "source": [
    "IN_COLAB = False\n",
    "\n",
    "try:\n",
    "  import google.colab\n",
    "  IN_COLAB = True\n",
    "except:\n",
    "  pass\n",
    "\n",
    "if IN_COLAB == True:\n",
    "  from google.colab import drive\n",
    "  drive.mount('/content/gdrive')\n",
    "  %cd /content/gdrive/MyDrive/Tesi_GDrive\n",
    "  PROJECT_PATH = '/content/gdrive/MyDrive/Tesi_GDrive'\n",
    "  #!ls\n",
    "else:\n",
    "  %cd /Users/edoardorossi/Documents/Universita/Tesi/Tesi_GDrive\n",
    "  PROJECT_PATH = '/Users/edoardorossi/Documents/Universita/Tesi/Tesi_GDrive'\n",
    "\n",
    "import warnings\n",
    "import pickle\n",
    "import sys\n",
    "import os\n",
    "\n",
    "if IN_COLAB == True:\n",
    "  sys.path.insert(0, os.path.abspath('functions'))\n",
    "  sys.path.insert(0, os.path.abspath(''))\n",
    "else:\n",
    "  sys.path.insert(0, os.path.abspath('functions'))\n",
    "  sys.path.insert(0, os.path.abspath(''))\n",
    "\n",
    "warnings.filterwarnings('ignore')\n",
    "\n",
    "import pandas as pd\n",
    "import numpy as np\n",
    "import matplotlib.pyplot as plt\n",
    "import matplotlib.cm as cm\n",
    "from sklearn.preprocessing import MinMaxScaler, StandardScaler\n",
    "from sklearn.decomposition import PCA\n",
    "from sklearn.cluster import KMeans\n",
    "from sklearn.metrics import silhouette_score\n",
    "from sklearn_extra.cluster import KMedoids\n",
    "from sklearn.metrics import silhouette_score, silhouette_samples\n",
    "from keras.models import Sequential, Model\n",
    "from keras.layers import Dense, Lambda\n",
    "from keras.layers import Activation\n",
    "from keras.activations import exponential, relu\n",
    "from keras import backend as K\n",
    "import tensorflow as tf\n",
    "#from tensorflow.keras.layers import Input, Layer, InputSpec, Reshape\n",
    "#from tensorflow.keras import initializers\n",
    "#from tensorflow.keras.optimizers import Adam\n",
    "tf.config.run_functions_eagerly(True)\n",
    "from scipy.optimize import minimize, differential_evolution\n",
    "\n",
    "from pkl import store_data, load_data\n",
    "#from functions.compressor import compress\n",
    "from functions.compressor_param import compress_2\n",
    "from functions.mapping import ind2sub, sub2ind3d\n",
    "from functions.clustering_foo import K_Medoids\n",
    "\n",
    "import random\n",
    "from collections import defaultdict\n",
    "\n",
    "import time\n",
    "\n",
    "print(\"Libraries imported\")"
   ]
  },
  {
   "attachments": {},
   "cell_type": "markdown",
   "metadata": {},
   "source": [
    "# Data Import"
   ]
  },
  {
   "cell_type": "code",
   "execution_count": 2,
   "metadata": {},
   "outputs": [
    {
     "name": "stdout",
     "output_type": "stream",
     "text": [
      "The dataset has 2176378 rows and 76 columns\n"
     ]
    }
   ],
   "source": [
    "cta30_def_path = os.path.join(PROJECT_PATH, 'CTA30/DF_clean/clean_CTA_30_def.csv')  \n",
    "df_def = pd.read_csv(cta30_def_path)\n",
    "\n",
    "\n",
    "cta30_18_path = os.path.join(PROJECT_PATH, 'CTA30/DF_clean/clean_CTA_30_2018.csv')\n",
    "cta30_19_path = os.path.join(PROJECT_PATH, 'CTA30/DF_clean/clean_CTA_30_2019.csv')\n",
    "cta30_20_path = os.path.join(PROJECT_PATH, 'CTA30/DF_clean/clean_CTA_30_2020.csv')\n",
    "cta30_21_path = os.path.join(PROJECT_PATH, 'CTA30/DF_clean/clean_CTA_30_2021.csv')\n",
    "cta30_22_path = os.path.join(PROJECT_PATH, 'CTA30/DF_clean/clean_CTA_30_2022.csv')\n",
    "\n",
    "df18= pd.read_csv(cta30_18_path)\n",
    "df19= pd.read_csv(cta30_19_path)\n",
    "df20= pd.read_csv(cta30_20_path)\n",
    "df21= pd.read_csv(cta30_21_path)\n",
    "df22= pd.read_csv(cta30_22_path)\n",
    "\n",
    "df = pd.concat([df18, df19, df20, df21, df22], ignore_index=True)\n",
    "\n",
    "[r,c] = df.shape\n",
    "print(\"The dataset has\", r, \"rows and\", c, \"columns\")"
   ]
  },
  {
   "attachments": {},
   "cell_type": "markdown",
   "metadata": {},
   "source": [
    "# Data Preprocessing - \"Compression\""
   ]
  },
  {
   "attachments": {},
   "cell_type": "markdown",
   "metadata": {},
   "source": [
    "## Normalization"
   ]
  },
  {
   "cell_type": "code",
   "execution_count": 3,
   "metadata": {},
   "outputs": [],
   "source": [
    "scale_norm = MinMaxScaler()\n",
    "df_norm = pd.DataFrame(scale_norm.fit_transform(df), columns=df.columns)"
   ]
  },
  {
   "attachments": {},
   "cell_type": "markdown",
   "metadata": {},
   "source": [
    "## Standardization"
   ]
  },
  {
   "cell_type": "code",
   "execution_count": 4,
   "metadata": {},
   "outputs": [],
   "source": [
    "st_scale = StandardScaler()\n",
    "df_st = pd.DataFrame(st_scale.fit_transform(df), columns=df.columns)"
   ]
  },
  {
   "attachments": {},
   "cell_type": "markdown",
   "metadata": {},
   "source": [
    "# Data Preprocessing - \"Clustering\""
   ]
  },
  {
   "attachments": {},
   "cell_type": "markdown",
   "metadata": {},
   "source": [
    "## K-Means"
   ]
  },
  {
   "cell_type": "code",
   "execution_count": 5,
   "metadata": {},
   "outputs": [],
   "source": [
    "def K_Means_elbow_best_model(df,k_max):\n",
    "\n",
    "    X = df.values\n",
    "\n",
    "    n_clusters_range = range(2,k_max+1)\n",
    "\n",
    "    wcss = []\n",
    "\n",
    "    for n_clusters in n_clusters_range:\n",
    "        \n",
    "        time_start = time.time()\n",
    "        kmeans = KMeans(n_clusters=n_clusters, init='k-means++', max_iter=300, n_init=10, random_state=0)\n",
    "        kmeans.fit(X)\n",
    "        wcss.append(kmeans.inertia_)\n",
    "        time_elapsed = time.time() - time_start\n",
    "        print(\"KMeans with\", n_clusters, \"clusters computed in\", time_elapsed, \"seconds\")\n",
    "\n",
    "    plt.plot(n_clusters_range, wcss)\n",
    "    plt.title('Elbow Method')\n",
    "    plt.xlabel('Number of clusters')\n",
    "    plt.ylabel('WCSS')\n",
    "    plt.show()\n",
    "    \n"
   ]
  },
  {
   "cell_type": "code",
   "execution_count": 9,
   "metadata": {},
   "outputs": [
    {
     "name": "stdout",
     "output_type": "stream",
     "text": [
      "KMeans with 2 clusters computed in 16.08219027519226 seconds\n",
      "KMeans with 3 clusters computed in 18.598392963409424 seconds\n",
      "KMeans with 4 clusters computed in 23.79142999649048 seconds\n",
      "KMeans with 5 clusters computed in 25.683462858200073 seconds\n",
      "KMeans with 6 clusters computed in 28.195502042770386 seconds\n",
      "KMeans with 7 clusters computed in 34.12229609489441 seconds\n",
      "KMeans with 8 clusters computed in 38.48144292831421 seconds\n",
      "KMeans with 9 clusters computed in 48.862473249435425 seconds\n",
      "KMeans with 10 clusters computed in 52.55023217201233 seconds\n",
      "KMeans with 11 clusters computed in 64.04083704948425 seconds\n",
      "KMeans with 12 clusters computed in 61.735074043273926 seconds\n",
      "KMeans with 13 clusters computed in 72.71081709861755 seconds\n",
      "KMeans with 14 clusters computed in 69.12551712989807 seconds\n",
      "KMeans with 15 clusters computed in 80.96456003189087 seconds\n",
      "KMeans with 16 clusters computed in 75.29241299629211 seconds\n",
      "KMeans with 17 clusters computed in 92.11728525161743 seconds\n",
      "KMeans with 18 clusters computed in 90.51507806777954 seconds\n",
      "KMeans with 19 clusters computed in 97.79571390151978 seconds\n",
      "KMeans with 20 clusters computed in 89.70715379714966 seconds\n",
      "KMeans with 21 clusters computed in 110.6744737625122 seconds\n",
      "KMeans with 22 clusters computed in 123.18522620201111 seconds\n",
      "KMeans with 23 clusters computed in 123.40342688560486 seconds\n",
      "KMeans with 24 clusters computed in 119.56528186798096 seconds\n",
      "KMeans with 25 clusters computed in 136.05398225784302 seconds\n",
      "KMeans with 26 clusters computed in 128.1354079246521 seconds\n",
      "KMeans with 27 clusters computed in 140.3931291103363 seconds\n",
      "KMeans with 28 clusters computed in 140.78005003929138 seconds\n",
      "KMeans with 29 clusters computed in 142.2318937778473 seconds\n",
      "KMeans with 30 clusters computed in 147.3185751438141 seconds\n",
      "KMeans with 31 clusters computed in 159.43247389793396 seconds\n",
      "KMeans with 32 clusters computed in 150.34866881370544 seconds\n",
      "KMeans with 33 clusters computed in 210.68207621574402 seconds\n",
      "KMeans with 34 clusters computed in 207.1485550403595 seconds\n",
      "KMeans with 35 clusters computed in 178.58100390434265 seconds\n"
     ]
    },
    {
     "data": {
      "image/png": "[encoded data removed]",
      "text/plain": [
       "<Figure size 640x480 with 1 Axes>"
      ]
     },
     "metadata": {},
     "output_type": "display_data"
    },
    {
     "name": "stdout",
     "output_type": "stream",
     "text": [
      "KMeans with 2 clusters computed in 31.46563220024109 seconds\n",
      "KMeans with 3 clusters computed in 40.596067667007446 seconds\n",
      "KMeans with 4 clusters computed in 40.61411094665527 seconds\n",
      "KMeans with 5 clusters computed in 53.01831293106079 seconds\n",
      "KMeans with 6 clusters computed in 43.82501006126404 seconds\n",
      "KMeans with 7 clusters computed in 49.12114095687866 seconds\n",
      "KMeans with 8 clusters computed in 53.98811483383179 seconds\n",
      "KMeans with 9 clusters computed in 67.90017914772034 seconds\n",
      "KMeans with 10 clusters computed in 80.25977087020874 seconds\n",
      "KMeans with 11 clusters computed in 88.77747988700867 seconds\n",
      "KMeans with 12 clusters computed in 93.99426198005676 seconds\n",
      "KMeans with 13 clusters computed in 98.15826296806335 seconds\n",
      "KMeans with 14 clusters computed in 155.24226570129395 seconds\n",
      "KMeans with 15 clusters computed in 140.19857001304626 seconds\n",
      "KMeans with 16 clusters computed in 129.28430485725403 seconds\n",
      "KMeans with 17 clusters computed in 106.52348494529724 seconds\n",
      "KMeans with 18 clusters computed in 102.64698004722595 seconds\n",
      "KMeans with 19 clusters computed in 117.90730810165405 seconds\n",
      "KMeans with 20 clusters computed in 149.97677898406982 seconds\n",
      "KMeans with 21 clusters computed in 259.6717538833618 seconds\n",
      "KMeans with 22 clusters computed in 272.4842586517334 seconds\n",
      "KMeans with 23 clusters computed in 204.21854305267334 seconds\n",
      "KMeans with 24 clusters computed in 180.20034003257751 seconds\n",
      "KMeans with 25 clusters computed in 311.81734800338745 seconds\n",
      "KMeans with 26 clusters computed in 233.75052881240845 seconds\n",
      "KMeans with 27 clusters computed in 232.91092014312744 seconds\n",
      "KMeans with 28 clusters computed in 248.08025908470154 seconds\n",
      "KMeans with 29 clusters computed in 232.35059094429016 seconds\n",
      "KMeans with 30 clusters computed in 170.86849808692932 seconds\n",
      "KMeans with 31 clusters computed in 191.79049706459045 seconds\n",
      "KMeans with 32 clusters computed in 419.6472969055176 seconds\n",
      "KMeans with 33 clusters computed in 502.9241421222687 seconds\n",
      "KMeans with 34 clusters computed in 300.4012017250061 seconds\n",
      "KMeans with 35 clusters computed in 198.02902507781982 seconds\n"
     ]
    },
    {
     "data": {
      "image/png": "[encoded data removed]",
      "text/plain": [
       "<Figure size 640x480 with 1 Axes>"
      ]
     },
     "metadata": {},
     "output_type": "display_data"
    }
   ],
   "source": [
    "#k_max = 35\n",
    "#K_Means_elbow_best_model(df_norm, k_max)\n",
    "#K_Means_elbow_best_model(df_st, k_max)\n"
   ]
  },
  {
   "cell_type": "code",
   "execution_count": 9,
   "metadata": {},
   "outputs": [],
   "source": [
    "def K_Means_silhouette_best_model(df, k_max):\n",
    "\n",
    "    X = df.values\n",
    "\n",
    "    n_clusters_range = range(2, k_max+1)\n",
    "\n",
    "    silhouettes_score = []\n",
    "    models = []\n",
    "\n",
    "    for n_clusters in n_clusters_range:\n",
    "        time_start = time.time()\n",
    "\n",
    "        fig, ax = plt.subplots(figsize=(8, 6))\n",
    "\n",
    "        kmeans = KMeans(n_clusters=n_clusters)\n",
    "\n",
    "        labels = kmeans.fit_predict(X)\n",
    "        silhouette_avg = silhouette_score(X, labels)\n",
    "\n",
    "        silhouettes_score.append(silhouette_avg)\n",
    "        models.append(kmeans)\n",
    "\n",
    "        sample_silhouette_values = silhouette_samples(X, labels)\n",
    "\n",
    "        y_lower = 10\n",
    "        for i in range(n_clusters):\n",
    "            # Aggregate the silhouette scores for samples belonging to\n",
    "            # cluster i, and sort them\n",
    "            ith_cluster_silhouette_values = sample_silhouette_values[labels == i]\n",
    "            ith_cluster_silhouette_values.sort()\n",
    "\n",
    "            size_cluster_i = ith_cluster_silhouette_values.shape[0]\n",
    "            y_upper = y_lower + size_cluster_i\n",
    "\n",
    "            color = cm.nipy_spectral(float(i) / n_clusters)\n",
    "            ax.fill_betweenx(np.arange(y_lower, y_upper),\n",
    "                              0, ith_cluster_silhouette_values,\n",
    "                              facecolor=color, edgecolor=color, alpha=0.7)\n",
    "\n",
    "            # Label the silhouette plots with their cluster numbers at the middle\n",
    "            ax.text(-0.05, y_lower + 0.5 * size_cluster_i, str(i))\n",
    "\n",
    "            # Compute the new y_lower for next plot\n",
    "            y_lower = y_upper + 10  # 10 for the 0 samples\n",
    "            \n",
    "        ax.set_title(\"Silhouette plot for {} clusters\".format(n_clusters))\n",
    "        ax.set_xlabel(\"Silhouette coefficient values\")\n",
    "        ax.set_ylabel(\"Cluster labels\")\n",
    "\n",
    "        # The vertical line for average silhouette score of all the values\n",
    "        ax.axvline(x=silhouette_avg, color=\"red\", linestyle=\"--\")\n",
    "\n",
    "        ax.set_yticks([])  # Clear the yaxis labels / ticks\n",
    "        ax.set_xticks([-1, -0.8, -0.6, -0.4, -0.2, 0, 0.2, 0.4, 0.6, 0.8, 1])\n",
    "\n",
    "        plt.show()\n",
    "\n",
    "        print(\"For n_clusters =\", n_clusters, \"The average silhouette_score is :\", silhouette_avg)\n",
    "        time_elapsed = time.time() - time_start\n",
    "        print(\"Cluster\", i, \"computed in\", time_elapsed, \"seconds\")\n",
    "\n",
    "    best_model_idx = np.argmax(silhouettes_score)\n",
    "    best_n_clusters = n_clusters_range[best_model_idx]\n",
    "    print(\"Best model has\", best_n_clusters, \"clusters\")\n",
    "\n",
    "\n",
    "\n"
   ]
  },
  {
   "cell_type": "code",
   "execution_count": 10,
   "metadata": {},
   "outputs": [
    {
     "ename": "KeyboardInterrupt",
     "evalue": "",
     "output_type": "error",
     "traceback": [
      "\u001b[0;31m---------------------------------------------------------------------------\u001b[0m",
      "\u001b[0;31mKeyboardInterrupt\u001b[0m                         Traceback (most recent call last)",
      "Cell \u001b[0;32mIn[10], line 1\u001b[0m\n\u001b[0;32m----> 1\u001b[0m st_kmeans_return \u001b[39m=\u001b[39m K_Means_silhouette_best_model(df_st, \u001b[39m3\u001b[39;49m)\n\u001b[1;32m      2\u001b[0m norm_kmeans_return \u001b[39m=\u001b[39m K_Means_silhouette_best_model(df_norm, \u001b[39m3\u001b[39m)\n",
      "Cell \u001b[0;32mIn[9], line 18\u001b[0m, in \u001b[0;36mK_Means_silhouette_best_model\u001b[0;34m(df, k_max)\u001b[0m\n\u001b[1;32m     15\u001b[0m kmeans \u001b[39m=\u001b[39m KMeans(n_clusters\u001b[39m=\u001b[39mn_clusters)\n\u001b[1;32m     17\u001b[0m labels \u001b[39m=\u001b[39m kmeans\u001b[39m.\u001b[39mfit_predict(X)\n\u001b[0;32m---> 18\u001b[0m silhouette_avg \u001b[39m=\u001b[39m silhouette_score(X, labels)\n\u001b[1;32m     20\u001b[0m silhouettes_score\u001b[39m.\u001b[39mappend(silhouette_avg)\n\u001b[1;32m     21\u001b[0m models\u001b[39m.\u001b[39mappend(kmeans)\n",
      "File \u001b[0;32m~/opt/anaconda3/envs/tesi_env/lib/python3.10/site-packages/sklearn/metrics/cluster/_unsupervised.py:117\u001b[0m, in \u001b[0;36msilhouette_score\u001b[0;34m(X, labels, metric, sample_size, random_state, **kwds)\u001b[0m\n\u001b[1;32m    115\u001b[0m     \u001b[39melse\u001b[39;00m:\n\u001b[1;32m    116\u001b[0m         X, labels \u001b[39m=\u001b[39m X[indices], labels[indices]\n\u001b[0;32m--> 117\u001b[0m \u001b[39mreturn\u001b[39;00m np\u001b[39m.\u001b[39mmean(silhouette_samples(X, labels, metric\u001b[39m=\u001b[39;49mmetric, \u001b[39m*\u001b[39;49m\u001b[39m*\u001b[39;49mkwds))\n",
      "File \u001b[0;32m~/opt/anaconda3/envs/tesi_env/lib/python3.10/site-packages/sklearn/metrics/cluster/_unsupervised.py:237\u001b[0m, in \u001b[0;36msilhouette_samples\u001b[0;34m(X, labels, metric, **kwds)\u001b[0m\n\u001b[1;32m    233\u001b[0m kwds[\u001b[39m\"\u001b[39m\u001b[39mmetric\u001b[39m\u001b[39m\"\u001b[39m] \u001b[39m=\u001b[39m metric\n\u001b[1;32m    234\u001b[0m reduce_func \u001b[39m=\u001b[39m functools\u001b[39m.\u001b[39mpartial(\n\u001b[1;32m    235\u001b[0m     _silhouette_reduce, labels\u001b[39m=\u001b[39mlabels, label_freqs\u001b[39m=\u001b[39mlabel_freqs\n\u001b[1;32m    236\u001b[0m )\n\u001b[0;32m--> 237\u001b[0m results \u001b[39m=\u001b[39m \u001b[39mzip\u001b[39;49m(\u001b[39m*\u001b[39;49mpairwise_distances_chunked(X, reduce_func\u001b[39m=\u001b[39;49mreduce_func, \u001b[39m*\u001b[39;49m\u001b[39m*\u001b[39;49mkwds))\n\u001b[1;32m    238\u001b[0m intra_clust_dists, inter_clust_dists \u001b[39m=\u001b[39m results\n\u001b[1;32m    239\u001b[0m intra_clust_dists \u001b[39m=\u001b[39m np\u001b[39m.\u001b[39mconcatenate(intra_clust_dists)\n",
      "File \u001b[0;32m~/opt/anaconda3/envs/tesi_env/lib/python3.10/site-packages/sklearn/metrics/pairwise.py:1867\u001b[0m, in \u001b[0;36mpairwise_distances_chunked\u001b[0;34m(X, Y, reduce_func, metric, n_jobs, working_memory, **kwds)\u001b[0m\n\u001b[1;32m   1865\u001b[0m \u001b[39melse\u001b[39;00m:\n\u001b[1;32m   1866\u001b[0m     X_chunk \u001b[39m=\u001b[39m X[sl]\n\u001b[0;32m-> 1867\u001b[0m D_chunk \u001b[39m=\u001b[39m pairwise_distances(X_chunk, Y, metric\u001b[39m=\u001b[39;49mmetric, n_jobs\u001b[39m=\u001b[39;49mn_jobs, \u001b[39m*\u001b[39;49m\u001b[39m*\u001b[39;49mkwds)\n\u001b[1;32m   1868\u001b[0m \u001b[39mif\u001b[39;00m (X \u001b[39mis\u001b[39;00m Y \u001b[39mor\u001b[39;00m Y \u001b[39mis\u001b[39;00m \u001b[39mNone\u001b[39;00m) \u001b[39mand\u001b[39;00m PAIRWISE_DISTANCE_FUNCTIONS\u001b[39m.\u001b[39mget(\n\u001b[1;32m   1869\u001b[0m     metric, \u001b[39mNone\u001b[39;00m\n\u001b[1;32m   1870\u001b[0m ) \u001b[39mis\u001b[39;00m euclidean_distances:\n\u001b[1;32m   1871\u001b[0m     \u001b[39m# zeroing diagonal, taking care of aliases of \"euclidean\",\u001b[39;00m\n\u001b[1;32m   1872\u001b[0m     \u001b[39m# i.e. \"l2\"\u001b[39;00m\n\u001b[1;32m   1873\u001b[0m     D_chunk\u001b[39m.\u001b[39mflat[sl\u001b[39m.\u001b[39mstart :: _num_samples(X) \u001b[39m+\u001b[39m \u001b[39m1\u001b[39m] \u001b[39m=\u001b[39m \u001b[39m0\u001b[39m\n",
      "File \u001b[0;32m~/opt/anaconda3/envs/tesi_env/lib/python3.10/site-packages/sklearn/metrics/pairwise.py:2039\u001b[0m, in \u001b[0;36mpairwise_distances\u001b[0;34m(X, Y, metric, n_jobs, force_all_finite, **kwds)\u001b[0m\n\u001b[1;32m   2036\u001b[0m         \u001b[39mreturn\u001b[39;00m distance\u001b[39m.\u001b[39msquareform(distance\u001b[39m.\u001b[39mpdist(X, metric\u001b[39m=\u001b[39mmetric, \u001b[39m*\u001b[39m\u001b[39m*\u001b[39mkwds))\n\u001b[1;32m   2037\u001b[0m     func \u001b[39m=\u001b[39m partial(distance\u001b[39m.\u001b[39mcdist, metric\u001b[39m=\u001b[39mmetric, \u001b[39m*\u001b[39m\u001b[39m*\u001b[39mkwds)\n\u001b[0;32m-> 2039\u001b[0m \u001b[39mreturn\u001b[39;00m _parallel_pairwise(X, Y, func, n_jobs, \u001b[39m*\u001b[39;49m\u001b[39m*\u001b[39;49mkwds)\n",
      "File \u001b[0;32m~/opt/anaconda3/envs/tesi_env/lib/python3.10/site-packages/sklearn/metrics/pairwise.py:1579\u001b[0m, in \u001b[0;36m_parallel_pairwise\u001b[0;34m(X, Y, func, n_jobs, **kwds)\u001b[0m\n\u001b[1;32m   1576\u001b[0m X, Y, dtype \u001b[39m=\u001b[39m _return_float_dtype(X, Y)\n\u001b[1;32m   1578\u001b[0m \u001b[39mif\u001b[39;00m effective_n_jobs(n_jobs) \u001b[39m==\u001b[39m \u001b[39m1\u001b[39m:\n\u001b[0;32m-> 1579\u001b[0m     \u001b[39mreturn\u001b[39;00m func(X, Y, \u001b[39m*\u001b[39;49m\u001b[39m*\u001b[39;49mkwds)\n\u001b[1;32m   1581\u001b[0m \u001b[39m# enforce a threading backend to prevent data communication overhead\u001b[39;00m\n\u001b[1;32m   1582\u001b[0m fd \u001b[39m=\u001b[39m delayed(_dist_wrapper)\n",
      "File \u001b[0;32m~/opt/anaconda3/envs/tesi_env/lib/python3.10/site-packages/sklearn/metrics/pairwise.py:328\u001b[0m, in \u001b[0;36meuclidean_distances\u001b[0;34m(X, Y, Y_norm_squared, squared, X_norm_squared)\u001b[0m\n\u001b[1;32m    322\u001b[0m     \u001b[39mif\u001b[39;00m Y_norm_squared\u001b[39m.\u001b[39mshape \u001b[39m!=\u001b[39m (\u001b[39m1\u001b[39m, Y\u001b[39m.\u001b[39mshape[\u001b[39m0\u001b[39m]):\n\u001b[1;32m    323\u001b[0m         \u001b[39mraise\u001b[39;00m \u001b[39mValueError\u001b[39;00m(\n\u001b[1;32m    324\u001b[0m             \u001b[39mf\u001b[39m\u001b[39m\"\u001b[39m\u001b[39mIncompatible dimensions for Y of shape \u001b[39m\u001b[39m{\u001b[39;00mY\u001b[39m.\u001b[39mshape\u001b[39m}\u001b[39;00m\u001b[39m and \u001b[39m\u001b[39m\"\u001b[39m\n\u001b[1;32m    325\u001b[0m             \u001b[39mf\u001b[39m\u001b[39m\"\u001b[39m\u001b[39mY_norm_squared of shape \u001b[39m\u001b[39m{\u001b[39;00moriginal_shape\u001b[39m}\u001b[39;00m\u001b[39m.\u001b[39m\u001b[39m\"\u001b[39m\n\u001b[1;32m    326\u001b[0m         )\n\u001b[0;32m--> 328\u001b[0m \u001b[39mreturn\u001b[39;00m _euclidean_distances(X, Y, X_norm_squared, Y_norm_squared, squared)\n",
      "File \u001b[0;32m~/opt/anaconda3/envs/tesi_env/lib/python3.10/site-packages/sklearn/metrics/pairwise.py:372\u001b[0m, in \u001b[0;36m_euclidean_distances\u001b[0;34m(X, Y, X_norm_squared, Y_norm_squared, squared)\u001b[0m\n\u001b[1;32m    370\u001b[0m     distances \u001b[39m+\u001b[39m\u001b[39m=\u001b[39m XX\n\u001b[1;32m    371\u001b[0m     distances \u001b[39m+\u001b[39m\u001b[39m=\u001b[39m YY\n\u001b[0;32m--> 372\u001b[0m np\u001b[39m.\u001b[39;49mmaximum(distances, \u001b[39m0\u001b[39;49m, out\u001b[39m=\u001b[39;49mdistances)\n\u001b[1;32m    374\u001b[0m \u001b[39m# Ensure that distances between vectors and themselves are set to 0.0.\u001b[39;00m\n\u001b[1;32m    375\u001b[0m \u001b[39m# This may not be the case due to floating point rounding errors.\u001b[39;00m\n\u001b[1;32m    376\u001b[0m \u001b[39mif\u001b[39;00m X \u001b[39mis\u001b[39;00m Y:\n",
      "\u001b[0;31mKeyboardInterrupt\u001b[0m: "
     ]
    },
    {
     "data": {
      "image/png": "[encoded data removed]",
      "text/plain": [
       "<Figure size 800x600 with 1 Axes>"
      ]
     },
     "metadata": {},
     "output_type": "display_data"
    }
   ],
   "source": [
    "st_kmeans_return = K_Means_silhouette_best_model(df_st, 3)\n",
    "norm_kmeans_return = K_Means_silhouette_best_model(df_norm, 3)"
   ]
  },
  {
   "attachments": {},
   "cell_type": "markdown",
   "metadata": {},
   "source": [
    "## K-Medioids"
   ]
  },
  {
   "cell_type": "code",
   "execution_count": 5,
   "metadata": {},
   "outputs": [
    {
     "ename": "",
     "evalue": "",
     "output_type": "error",
     "traceback": [
      "\u001b[1;31mCanceled future for execute_request message before replies were done"
     ]
    },
    {
     "ename": "",
     "evalue": "",
     "output_type": "error",
     "traceback": [
      "\u001b[1;31mSi è verificato un arresto anomalo del kernel durante l'esecuzione del codice nella cella attiva o in una cella precedente. Esaminare il codice nelle celle per identificare una possibile causa dell'errore. Per altre informazioni, fare clic su <a href='https://aka.ms/vscodeJupyterKernelCrash'>here</a>. Per altri dettagli, vedere Jupyter <a href='command:jupyter.viewOutput'>log</a>."
     ]
    }
   ],
   "source": [
    "from functions.clustering_foo import K_Medoids\n",
    "\n",
    "models = K_Medoids(df_norm, 3)"
   ]
  },
  {
   "cell_type": "code",
   "execution_count": null,
   "metadata": {},
   "outputs": [],
   "source": [
    "models"
   ]
  },
  {
   "attachments": {},
   "cell_type": "markdown",
   "metadata": {},
   "source": [
    "## Agglomerative"
   ]
  },
  {
   "attachments": {},
   "cell_type": "markdown",
   "metadata": {},
   "source": [
    "## Gaussian Mixture"
   ]
  },
  {
   "cell_type": "code",
   "execution_count": null,
   "metadata": {},
   "outputs": [],
   "source": []
  }
 ],
 "metadata": {
  "kernelspec": {
   "display_name": "tesi_env",
   "language": "python",
   "name": "python3"
  },
  "language_info": {
   "codemirror_mode": {
    "name": "ipython",
    "version": 3
   },
   "file_extension": ".py",
   "mimetype": "text/x-python",
   "name": "python",
   "nbconvert_exporter": "python",
   "pygments_lexer": "ipython3",
   "version": "3.10.9"
  },
  "orig_nbformat": 4
 },
 "nbformat": 4,
 "nbformat_minor": 2
}
