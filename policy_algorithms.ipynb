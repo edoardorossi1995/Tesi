{
 "cells": [
  {
   "attachments": {},
   "cell_type": "markdown",
   "metadata": {},
   "source": [
    "# Environment Setting"
   ]
  },
  {
   "cell_type": "code",
   "execution_count": 1,
   "metadata": {},
   "outputs": [
    {
     "name": "stdout",
     "output_type": "stream",
     "text": [
      "/Users/edoardorossi/Documents/Universita/Tesi/Tesi_GDrive\n"
     ]
    },
    {
     "name": "stderr",
     "output_type": "stream",
     "text": [
      "2023-05-22 11:05:10.204007: I tensorflow/core/platform/cpu_feature_guard.cc:193] This TensorFlow binary is optimized with oneAPI Deep Neural Network Library (oneDNN) to use the following CPU instructions in performance-critical operations:  SSE4.1 SSE4.2 AVX\n",
      "To enable them in other operations, rebuild TensorFlow with the appropriate compiler flags.\n"
     ]
    },
    {
     "name": "stdout",
     "output_type": "stream",
     "text": [
      "Libraries imported\n"
     ]
    }
   ],
   "source": [
    "IN_COLAB = False\n",
    "\n",
    "try:\n",
    "  import google.colab\n",
    "  IN_COLAB = True\n",
    "except:\n",
    "  pass\n",
    "\n",
    "if IN_COLAB == True:\n",
    "  from google.colab import drive\n",
    "  drive.mount('/content/gdrive')\n",
    "  %cd /content/gdrive/MyDrive/Tesi_GDrive\n",
    "  PROJECT_PATH = '/content/gdrive/MyDrive/Tesi_GDrive'\n",
    "  #!ls\n",
    "else:\n",
    "  %cd /Users/edoardorossi/Documents/Universita/Tesi/Tesi_GDrive\n",
    "  PROJECT_PATH = '/Users/edoardorossi/Documents/Universita/Tesi/Tesi_GDrive'\n",
    "\n",
    "import warnings\n",
    "import pickle\n",
    "import sys\n",
    "import os\n",
    "\n",
    "if IN_COLAB == True:\n",
    "  sys.path.insert(0, os.path.abspath('functions'))\n",
    "  sys.path.insert(0, os.path.abspath(''))\n",
    "else:\n",
    "  sys.path.insert(0, os.path.abspath('functions'))\n",
    "  sys.path.insert(0, os.path.abspath(''))\n",
    "\n",
    "warnings.filterwarnings('ignore')\n",
    "\n",
    "import pandas as pd\n",
    "import numpy as np\n",
    "import matplotlib.pyplot as plt\n",
    "from sklearn.preprocessing import MinMaxScaler\n",
    "from sklearn.decomposition import PCA\n",
    "from sklearn.cluster import KMeans\n",
    "from sklearn.metrics import silhouette_score\n",
    "from keras.models import Sequential, Model\n",
    "from keras.layers import Dense, Lambda\n",
    "from keras.layers import Activation\n",
    "from keras.activations import exponential, relu\n",
    "from keras import backend as K\n",
    "import tensorflow as tf\n",
    "#from tensorflow.keras.layers import Input, Layer, InputSpec, Reshape\n",
    "#from tensorflow.keras import initializers\n",
    "#from tensorflow.keras.optimizers import Adam\n",
    "tf.config.run_functions_eagerly(True)\n",
    "from scipy.optimize import minimize, differential_evolution\n",
    "\n",
    "#from pkl import store_data, load_data\n",
    "#from functions.compressor import compress\n",
    "from functions.compressor_param import compress_2\n",
    "from functions.mapping import sub2ind3d, ind2sub\n",
    "from functions.policy_functions import policy_evaluation, policy_improvement, policy_iteration, policy_optim, value_iteration\n",
    "\n",
    "\n",
    "import random\n",
    "from collections import defaultdict\n",
    "\n",
    "import time\n",
    "\n",
    "\n",
    "\n",
    "print(\"Libraries imported\")"
   ]
  },
  {
   "attachments": {},
   "cell_type": "markdown",
   "metadata": {},
   "source": [
    "## Data Loading"
   ]
  },
  {
   "cell_type": "code",
   "execution_count": 2,
   "metadata": {},
   "outputs": [],
   "source": [
    "R_cluster_8 = np.load(os.path.join(PROJECT_PATH, 'MDP_data/Cluster_8/R_Cluster_8.npy'))\n",
    "R_cluster_10 = np.load(os.path.join(PROJECT_PATH, 'MDP_data/Cluster_10/R_Cluster_10.npy'))\n",
    "R_cluster_15 = np.load(os.path.join(PROJECT_PATH, 'MDP_data/Cluster_15/R_Cluster_15.npy'))\n",
    "R_cluster_22 = np.load(os.path.join(PROJECT_PATH, 'MDP_data/Cluster_22/R_Cluster_22.npy'))\n",
    "R_cluster_30 = np.load(os.path.join(PROJECT_PATH, 'MDP_data/Cluster_30/R_Cluster_30.npy'))\n",
    "\n",
    "T_cluster_8 = np.load(os.path.join(PROJECT_PATH, 'MDP_data/Cluster_8/T_Cluster_8.npy'))\n",
    "T_cluster_10 = np.load(os.path.join(PROJECT_PATH, 'MDP_data/Cluster_10/T_Cluster_10.npy'))\n",
    "T_cluster_15 = np.load(os.path.join(PROJECT_PATH, 'MDP_data/Cluster_15/T_Cluster_15.npy'))\n",
    "T_cluster_22 = np.load(os.path.join(PROJECT_PATH, 'MDP_data/Cluster_22/T_Cluster_22.npy'))\n",
    "T_cluster_30 = np.load(os.path.join(PROJECT_PATH, 'MDP_data/Cluster_30/T_Cluster_30.npy'))\n",
    "\n",
    "actions = np.load(os.path.join(PROJECT_PATH, 'MDP_data/actions.npy'))\n",
    "\n",
    "T_group = [T_cluster_8, T_cluster_10, T_cluster_15, T_cluster_22, T_cluster_30]\n",
    "R_group = [R_cluster_8, R_cluster_10, R_cluster_15, R_cluster_22, R_cluster_30]\n"
   ]
  },
  {
   "attachments": {},
   "cell_type": "markdown",
   "metadata": {},
   "source": [
    "## Policy Iteration"
   ]
  },
  {
   "cell_type": "code",
   "execution_count": null,
   "metadata": {},
   "outputs": [],
   "source": [
    "for T in T_group:\n",
    "    policy, value = policy_iteration(T=T, R=R_group[T_group.index(T)], gamma=0.99)\n",
    "    print(\"policy: \", policy)\n",
    "    print(\"value: \", value)\n",
    "    #plot the best action for each state\n",
    "    best_action = np.argmax(R_group[T_group.index(T)], axis=0)\n",
    "    plt.plot(best_action)\n",
    "    plt.show()\n"
   ]
  },
  {
   "attachments": {},
   "cell_type": "markdown",
   "metadata": {},
   "source": [
    "## Value Iteration"
   ]
  },
  {
   "cell_type": "code",
   "execution_count": null,
   "metadata": {},
   "outputs": [],
   "source": [
    "for T in T_group:\n",
    "    policy, value = policy_iteration(T=T, R=R_group[T_group.index(T)], gamma=0.99)\n",
    "    print(\"policy: \", policy)\n",
    "    print(\"value: \", value)\n",
    "    #plot the best action for each state\n",
    "    best_action = np.argmax(R_group[T_group.index(T)], axis=0)\n",
    "    plt.plot(best_action)\n",
    "    plt.show()"
   ]
  },
  {
   "cell_type": "code",
   "execution_count": null,
   "metadata": {},
   "outputs": [],
   "source": []
  }
 ],
 "metadata": {
  "kernelspec": {
   "display_name": "tesi_env",
   "language": "python",
   "name": "python3"
  },
  "language_info": {
   "codemirror_mode": {
    "name": "ipython",
    "version": 3
   },
   "file_extension": ".py",
   "mimetype": "text/x-python",
   "name": "python",
   "nbconvert_exporter": "python",
   "pygments_lexer": "ipython3",
   "version": "3.10.9"
  },
  "orig_nbformat": 4
 },
 "nbformat": 4,
 "nbformat_minor": 2
}
